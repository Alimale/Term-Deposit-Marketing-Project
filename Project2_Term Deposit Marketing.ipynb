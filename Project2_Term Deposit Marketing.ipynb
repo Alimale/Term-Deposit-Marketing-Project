{
 "cells": [
  {
   "cell_type": "code",
   "execution_count": 39,
   "id": "1597a50e",
   "metadata": {},
   "outputs": [],
   "source": [
    "import pandas as pd\n",
    "import numpy as np\n",
    "import matplotlib.pyplot as plt\n",
    "import seaborn as sns\n",
    "\n",
    "%matplotlib inline\n"
   ]
  },
  {
   "cell_type": "code",
   "execution_count": 40,
   "id": "e76a27a3",
   "metadata": {},
   "outputs": [
    {
     "name": "stdout",
     "output_type": "stream",
     "text": [
      "C:\\Users\\alima\n"
     ]
    }
   ],
   "source": [
    "cd"
   ]
  },
  {
   "cell_type": "code",
   "execution_count": 41,
   "id": "6593d7ea",
   "metadata": {},
   "outputs": [],
   "source": [
    "df = pd.read_csv('./OneDrive/Documents/APZIVA/Project _2/term-deposit-marketing-2020.csv')"
   ]
  },
  {
   "cell_type": "code",
   "execution_count": 42,
   "id": "9e2e24a3",
   "metadata": {},
   "outputs": [
    {
     "data": {
      "text/html": [
       "<div>\n",
       "<style scoped>\n",
       "    .dataframe tbody tr th:only-of-type {\n",
       "        vertical-align: middle;\n",
       "    }\n",
       "\n",
       "    .dataframe tbody tr th {\n",
       "        vertical-align: top;\n",
       "    }\n",
       "\n",
       "    .dataframe thead th {\n",
       "        text-align: right;\n",
       "    }\n",
       "</style>\n",
       "<table border=\"1\" class=\"dataframe\">\n",
       "  <thead>\n",
       "    <tr style=\"text-align: right;\">\n",
       "      <th></th>\n",
       "      <th>age</th>\n",
       "      <th>job</th>\n",
       "      <th>marital</th>\n",
       "      <th>education</th>\n",
       "      <th>default</th>\n",
       "      <th>balance</th>\n",
       "      <th>housing</th>\n",
       "      <th>loan</th>\n",
       "      <th>contact</th>\n",
       "      <th>day</th>\n",
       "      <th>month</th>\n",
       "      <th>duration</th>\n",
       "      <th>campaign</th>\n",
       "      <th>y</th>\n",
       "    </tr>\n",
       "  </thead>\n",
       "  <tbody>\n",
       "    <tr>\n",
       "      <th>0</th>\n",
       "      <td>58</td>\n",
       "      <td>management</td>\n",
       "      <td>married</td>\n",
       "      <td>tertiary</td>\n",
       "      <td>no</td>\n",
       "      <td>2143</td>\n",
       "      <td>yes</td>\n",
       "      <td>no</td>\n",
       "      <td>unknown</td>\n",
       "      <td>5</td>\n",
       "      <td>may</td>\n",
       "      <td>261</td>\n",
       "      <td>1</td>\n",
       "      <td>no</td>\n",
       "    </tr>\n",
       "    <tr>\n",
       "      <th>1</th>\n",
       "      <td>44</td>\n",
       "      <td>technician</td>\n",
       "      <td>single</td>\n",
       "      <td>secondary</td>\n",
       "      <td>no</td>\n",
       "      <td>29</td>\n",
       "      <td>yes</td>\n",
       "      <td>no</td>\n",
       "      <td>unknown</td>\n",
       "      <td>5</td>\n",
       "      <td>may</td>\n",
       "      <td>151</td>\n",
       "      <td>1</td>\n",
       "      <td>no</td>\n",
       "    </tr>\n",
       "    <tr>\n",
       "      <th>2</th>\n",
       "      <td>33</td>\n",
       "      <td>entrepreneur</td>\n",
       "      <td>married</td>\n",
       "      <td>secondary</td>\n",
       "      <td>no</td>\n",
       "      <td>2</td>\n",
       "      <td>yes</td>\n",
       "      <td>yes</td>\n",
       "      <td>unknown</td>\n",
       "      <td>5</td>\n",
       "      <td>may</td>\n",
       "      <td>76</td>\n",
       "      <td>1</td>\n",
       "      <td>no</td>\n",
       "    </tr>\n",
       "    <tr>\n",
       "      <th>3</th>\n",
       "      <td>47</td>\n",
       "      <td>blue-collar</td>\n",
       "      <td>married</td>\n",
       "      <td>unknown</td>\n",
       "      <td>no</td>\n",
       "      <td>1506</td>\n",
       "      <td>yes</td>\n",
       "      <td>no</td>\n",
       "      <td>unknown</td>\n",
       "      <td>5</td>\n",
       "      <td>may</td>\n",
       "      <td>92</td>\n",
       "      <td>1</td>\n",
       "      <td>no</td>\n",
       "    </tr>\n",
       "    <tr>\n",
       "      <th>4</th>\n",
       "      <td>33</td>\n",
       "      <td>unknown</td>\n",
       "      <td>single</td>\n",
       "      <td>unknown</td>\n",
       "      <td>no</td>\n",
       "      <td>1</td>\n",
       "      <td>no</td>\n",
       "      <td>no</td>\n",
       "      <td>unknown</td>\n",
       "      <td>5</td>\n",
       "      <td>may</td>\n",
       "      <td>198</td>\n",
       "      <td>1</td>\n",
       "      <td>no</td>\n",
       "    </tr>\n",
       "  </tbody>\n",
       "</table>\n",
       "</div>"
      ],
      "text/plain": [
       "   age           job  marital  education default  balance housing loan  \\\n",
       "0   58    management  married   tertiary      no     2143     yes   no   \n",
       "1   44    technician   single  secondary      no       29     yes   no   \n",
       "2   33  entrepreneur  married  secondary      no        2     yes  yes   \n",
       "3   47   blue-collar  married    unknown      no     1506     yes   no   \n",
       "4   33       unknown   single    unknown      no        1      no   no   \n",
       "\n",
       "   contact  day month  duration  campaign   y  \n",
       "0  unknown    5   may       261         1  no  \n",
       "1  unknown    5   may       151         1  no  \n",
       "2  unknown    5   may        76         1  no  \n",
       "3  unknown    5   may        92         1  no  \n",
       "4  unknown    5   may       198         1  no  "
      ]
     },
     "execution_count": 42,
     "metadata": {},
     "output_type": "execute_result"
    }
   ],
   "source": [
    "df.head()"
   ]
  },
  {
   "cell_type": "code",
   "execution_count": null,
   "id": "a665269f",
   "metadata": {},
   "outputs": [],
   "source": []
  },
  {
   "cell_type": "code",
   "execution_count": 43,
   "id": "3917d013",
   "metadata": {},
   "outputs": [
    {
     "data": {
      "text/html": [
       "<div>\n",
       "<style scoped>\n",
       "    .dataframe tbody tr th:only-of-type {\n",
       "        vertical-align: middle;\n",
       "    }\n",
       "\n",
       "    .dataframe tbody tr th {\n",
       "        vertical-align: top;\n",
       "    }\n",
       "\n",
       "    .dataframe thead th {\n",
       "        text-align: right;\n",
       "    }\n",
       "</style>\n",
       "<table border=\"1\" class=\"dataframe\">\n",
       "  <thead>\n",
       "    <tr style=\"text-align: right;\">\n",
       "      <th></th>\n",
       "      <th>age</th>\n",
       "      <th>job</th>\n",
       "      <th>marital</th>\n",
       "      <th>education</th>\n",
       "      <th>default</th>\n",
       "      <th>balance</th>\n",
       "      <th>housing</th>\n",
       "      <th>loan</th>\n",
       "      <th>contact</th>\n",
       "      <th>day</th>\n",
       "      <th>month</th>\n",
       "      <th>duration</th>\n",
       "      <th>campaign</th>\n",
       "      <th>y</th>\n",
       "    </tr>\n",
       "  </thead>\n",
       "  <tbody>\n",
       "    <tr>\n",
       "      <th>39995</th>\n",
       "      <td>53</td>\n",
       "      <td>technician</td>\n",
       "      <td>married</td>\n",
       "      <td>tertiary</td>\n",
       "      <td>no</td>\n",
       "      <td>395</td>\n",
       "      <td>no</td>\n",
       "      <td>no</td>\n",
       "      <td>cellular</td>\n",
       "      <td>3</td>\n",
       "      <td>jun</td>\n",
       "      <td>107</td>\n",
       "      <td>1</td>\n",
       "      <td>no</td>\n",
       "    </tr>\n",
       "    <tr>\n",
       "      <th>39996</th>\n",
       "      <td>30</td>\n",
       "      <td>management</td>\n",
       "      <td>single</td>\n",
       "      <td>tertiary</td>\n",
       "      <td>no</td>\n",
       "      <td>3340</td>\n",
       "      <td>no</td>\n",
       "      <td>no</td>\n",
       "      <td>cellular</td>\n",
       "      <td>3</td>\n",
       "      <td>jun</td>\n",
       "      <td>238</td>\n",
       "      <td>3</td>\n",
       "      <td>yes</td>\n",
       "    </tr>\n",
       "    <tr>\n",
       "      <th>39997</th>\n",
       "      <td>54</td>\n",
       "      <td>admin</td>\n",
       "      <td>divorced</td>\n",
       "      <td>secondary</td>\n",
       "      <td>no</td>\n",
       "      <td>200</td>\n",
       "      <td>no</td>\n",
       "      <td>no</td>\n",
       "      <td>cellular</td>\n",
       "      <td>3</td>\n",
       "      <td>jun</td>\n",
       "      <td>170</td>\n",
       "      <td>1</td>\n",
       "      <td>yes</td>\n",
       "    </tr>\n",
       "    <tr>\n",
       "      <th>39998</th>\n",
       "      <td>34</td>\n",
       "      <td>management</td>\n",
       "      <td>married</td>\n",
       "      <td>tertiary</td>\n",
       "      <td>no</td>\n",
       "      <td>1047</td>\n",
       "      <td>no</td>\n",
       "      <td>no</td>\n",
       "      <td>cellular</td>\n",
       "      <td>3</td>\n",
       "      <td>jun</td>\n",
       "      <td>342</td>\n",
       "      <td>1</td>\n",
       "      <td>no</td>\n",
       "    </tr>\n",
       "    <tr>\n",
       "      <th>39999</th>\n",
       "      <td>38</td>\n",
       "      <td>technician</td>\n",
       "      <td>married</td>\n",
       "      <td>secondary</td>\n",
       "      <td>no</td>\n",
       "      <td>1442</td>\n",
       "      <td>yes</td>\n",
       "      <td>no</td>\n",
       "      <td>cellular</td>\n",
       "      <td>3</td>\n",
       "      <td>jun</td>\n",
       "      <td>113</td>\n",
       "      <td>1</td>\n",
       "      <td>no</td>\n",
       "    </tr>\n",
       "  </tbody>\n",
       "</table>\n",
       "</div>"
      ],
      "text/plain": [
       "       age         job   marital  education default  balance housing loan  \\\n",
       "39995   53  technician   married   tertiary      no      395      no   no   \n",
       "39996   30  management    single   tertiary      no     3340      no   no   \n",
       "39997   54       admin  divorced  secondary      no      200      no   no   \n",
       "39998   34  management   married   tertiary      no     1047      no   no   \n",
       "39999   38  technician   married  secondary      no     1442     yes   no   \n",
       "\n",
       "        contact  day month  duration  campaign    y  \n",
       "39995  cellular    3   jun       107         1   no  \n",
       "39996  cellular    3   jun       238         3  yes  \n",
       "39997  cellular    3   jun       170         1  yes  \n",
       "39998  cellular    3   jun       342         1   no  \n",
       "39999  cellular    3   jun       113         1   no  "
      ]
     },
     "execution_count": 43,
     "metadata": {},
     "output_type": "execute_result"
    }
   ],
   "source": [
    "df.tail()"
   ]
  },
  {
   "cell_type": "markdown",
   "id": "c96ad945",
   "metadata": {},
   "source": [
    "## Data Description\n",
    "\n",
    "Data Description:\n",
    "\n",
    "The data comes from direct marketing efforts of a European banking institution. The marketing campaign involves making a phone call to a customer, often multiple times to ensure a product subscription, in this case a term deposit. Term deposits are usually short-term deposits with maturities ranging from one month to a few years. The customer must understand when buying a term deposit that they can withdraw their funds only after the term ends. All customer information that might reveal personal information is removed due to privacy concerns.\n",
    "\n",
    "Attributes:\n",
    "\n",
    "age : age of customer (numeric)\n",
    "job : type of job (categorical)\n",
    "marital : marital status (categorical)\n",
    "education (categorical)\n",
    "default: has credit in default? (binary)\n",
    "balance: average yearly balance, in euros (numeric)\n",
    "housing: has a housing loan? (binary)\n",
    "loan: has personal loan? (binary)\n",
    "contact: contact communication type (categorical)\n",
    "day: last contact day of the month (numeric)\n",
    "month: last contact month of year (categorical)\n",
    "duration: last contact duration, in seconds (numeric)\n",
    "campaign: number of contacts performed during this campaign and for this client (numeric, includes last contact)\n",
    "Output (desired target):\n",
    "\n",
    "y - has the client subscribed to a term deposit? (binary)\n",
    "Download Data:\n",
    "\n",
    "Goal(s):\n",
    "\n",
    "Predict if the customer will subscribe (yes/no) to a term deposit (variable y)\n",
    "Success Metric(s):\n",
    "\n",
    "Hit %81 or above accuracy by evaluating with 5-fold cross validation and reporting the average performance score.\n",
    "Bonus(es):\n",
    "\n",
    "We are also interested in finding customers who are more likely to buy the investment product. Determine the segment(s) of customers our client should prioritize.\n",
    "What makes the customers buy? Tell us which feature we should be focusing more on."
   ]
  },
  {
   "cell_type": "markdown",
   "id": "a91be742",
   "metadata": {},
   "source": [
    "## Exploratory Data Analysis"
   ]
  },
  {
   "cell_type": "code",
   "execution_count": 44,
   "id": "a7d60312",
   "metadata": {},
   "outputs": [
    {
     "data": {
      "text/plain": [
       "(40000, 14)"
      ]
     },
     "execution_count": 44,
     "metadata": {},
     "output_type": "execute_result"
    }
   ],
   "source": [
    "df.shape"
   ]
  },
  {
   "cell_type": "code",
   "execution_count": 45,
   "id": "c6b1b30f",
   "metadata": {},
   "outputs": [
    {
     "name": "stdout",
     "output_type": "stream",
     "text": [
      "<class 'pandas.core.frame.DataFrame'>\n",
      "RangeIndex: 40000 entries, 0 to 39999\n",
      "Data columns (total 14 columns):\n",
      " #   Column     Non-Null Count  Dtype \n",
      "---  ------     --------------  ----- \n",
      " 0   age        40000 non-null  int64 \n",
      " 1   job        40000 non-null  object\n",
      " 2   marital    40000 non-null  object\n",
      " 3   education  40000 non-null  object\n",
      " 4   default    40000 non-null  object\n",
      " 5   balance    40000 non-null  int64 \n",
      " 6   housing    40000 non-null  object\n",
      " 7   loan       40000 non-null  object\n",
      " 8   contact    40000 non-null  object\n",
      " 9   day        40000 non-null  int64 \n",
      " 10  month      40000 non-null  object\n",
      " 11  duration   40000 non-null  int64 \n",
      " 12  campaign   40000 non-null  int64 \n",
      " 13  y          40000 non-null  object\n",
      "dtypes: int64(5), object(9)\n",
      "memory usage: 4.3+ MB\n"
     ]
    }
   ],
   "source": [
    "df.info()"
   ]
  },
  {
   "cell_type": "code",
   "execution_count": 46,
   "id": "a87637a2",
   "metadata": {},
   "outputs": [
    {
     "data": {
      "text/html": [
       "<div>\n",
       "<style scoped>\n",
       "    .dataframe tbody tr th:only-of-type {\n",
       "        vertical-align: middle;\n",
       "    }\n",
       "\n",
       "    .dataframe tbody tr th {\n",
       "        vertical-align: top;\n",
       "    }\n",
       "\n",
       "    .dataframe thead th {\n",
       "        text-align: right;\n",
       "    }\n",
       "</style>\n",
       "<table border=\"1\" class=\"dataframe\">\n",
       "  <thead>\n",
       "    <tr style=\"text-align: right;\">\n",
       "      <th></th>\n",
       "      <th>age</th>\n",
       "      <th>balance</th>\n",
       "      <th>day</th>\n",
       "      <th>duration</th>\n",
       "      <th>campaign</th>\n",
       "    </tr>\n",
       "  </thead>\n",
       "  <tbody>\n",
       "    <tr>\n",
       "      <th>count</th>\n",
       "      <td>40000.000000</td>\n",
       "      <td>40000.000000</td>\n",
       "      <td>40000.000000</td>\n",
       "      <td>40000.000000</td>\n",
       "      <td>40000.000000</td>\n",
       "    </tr>\n",
       "    <tr>\n",
       "      <th>mean</th>\n",
       "      <td>40.544600</td>\n",
       "      <td>1274.277550</td>\n",
       "      <td>16.017225</td>\n",
       "      <td>254.824300</td>\n",
       "      <td>2.882175</td>\n",
       "    </tr>\n",
       "    <tr>\n",
       "      <th>std</th>\n",
       "      <td>9.641776</td>\n",
       "      <td>2903.769716</td>\n",
       "      <td>8.278127</td>\n",
       "      <td>259.366498</td>\n",
       "      <td>3.239051</td>\n",
       "    </tr>\n",
       "    <tr>\n",
       "      <th>min</th>\n",
       "      <td>19.000000</td>\n",
       "      <td>-8019.000000</td>\n",
       "      <td>1.000000</td>\n",
       "      <td>0.000000</td>\n",
       "      <td>1.000000</td>\n",
       "    </tr>\n",
       "    <tr>\n",
       "      <th>25%</th>\n",
       "      <td>33.000000</td>\n",
       "      <td>54.000000</td>\n",
       "      <td>8.000000</td>\n",
       "      <td>100.000000</td>\n",
       "      <td>1.000000</td>\n",
       "    </tr>\n",
       "    <tr>\n",
       "      <th>50%</th>\n",
       "      <td>39.000000</td>\n",
       "      <td>407.000000</td>\n",
       "      <td>17.000000</td>\n",
       "      <td>175.000000</td>\n",
       "      <td>2.000000</td>\n",
       "    </tr>\n",
       "    <tr>\n",
       "      <th>75%</th>\n",
       "      <td>48.000000</td>\n",
       "      <td>1319.000000</td>\n",
       "      <td>21.000000</td>\n",
       "      <td>313.000000</td>\n",
       "      <td>3.000000</td>\n",
       "    </tr>\n",
       "    <tr>\n",
       "      <th>max</th>\n",
       "      <td>95.000000</td>\n",
       "      <td>102127.000000</td>\n",
       "      <td>31.000000</td>\n",
       "      <td>4918.000000</td>\n",
       "      <td>63.000000</td>\n",
       "    </tr>\n",
       "  </tbody>\n",
       "</table>\n",
       "</div>"
      ],
      "text/plain": [
       "                age        balance           day      duration      campaign\n",
       "count  40000.000000   40000.000000  40000.000000  40000.000000  40000.000000\n",
       "mean      40.544600    1274.277550     16.017225    254.824300      2.882175\n",
       "std        9.641776    2903.769716      8.278127    259.366498      3.239051\n",
       "min       19.000000   -8019.000000      1.000000      0.000000      1.000000\n",
       "25%       33.000000      54.000000      8.000000    100.000000      1.000000\n",
       "50%       39.000000     407.000000     17.000000    175.000000      2.000000\n",
       "75%       48.000000    1319.000000     21.000000    313.000000      3.000000\n",
       "max       95.000000  102127.000000     31.000000   4918.000000     63.000000"
      ]
     },
     "execution_count": 46,
     "metadata": {},
     "output_type": "execute_result"
    }
   ],
   "source": [
    "df.describe()"
   ]
  },
  {
   "cell_type": "code",
   "execution_count": 47,
   "id": "5ead6fbf",
   "metadata": {},
   "outputs": [
    {
     "data": {
      "text/html": [
       "<div>\n",
       "<style scoped>\n",
       "    .dataframe tbody tr th:only-of-type {\n",
       "        vertical-align: middle;\n",
       "    }\n",
       "\n",
       "    .dataframe tbody tr th {\n",
       "        vertical-align: top;\n",
       "    }\n",
       "\n",
       "    .dataframe thead th {\n",
       "        text-align: right;\n",
       "    }\n",
       "</style>\n",
       "<table border=\"1\" class=\"dataframe\">\n",
       "  <thead>\n",
       "    <tr style=\"text-align: right;\">\n",
       "      <th></th>\n",
       "      <th>job</th>\n",
       "      <th>marital</th>\n",
       "      <th>education</th>\n",
       "      <th>default</th>\n",
       "      <th>housing</th>\n",
       "      <th>loan</th>\n",
       "      <th>contact</th>\n",
       "      <th>month</th>\n",
       "      <th>y</th>\n",
       "    </tr>\n",
       "  </thead>\n",
       "  <tbody>\n",
       "    <tr>\n",
       "      <th>count</th>\n",
       "      <td>40000</td>\n",
       "      <td>40000</td>\n",
       "      <td>40000</td>\n",
       "      <td>40000</td>\n",
       "      <td>40000</td>\n",
       "      <td>40000</td>\n",
       "      <td>40000</td>\n",
       "      <td>40000</td>\n",
       "      <td>40000</td>\n",
       "    </tr>\n",
       "    <tr>\n",
       "      <th>unique</th>\n",
       "      <td>12</td>\n",
       "      <td>3</td>\n",
       "      <td>4</td>\n",
       "      <td>2</td>\n",
       "      <td>2</td>\n",
       "      <td>2</td>\n",
       "      <td>3</td>\n",
       "      <td>11</td>\n",
       "      <td>2</td>\n",
       "    </tr>\n",
       "    <tr>\n",
       "      <th>top</th>\n",
       "      <td>blue-collar</td>\n",
       "      <td>married</td>\n",
       "      <td>secondary</td>\n",
       "      <td>no</td>\n",
       "      <td>yes</td>\n",
       "      <td>no</td>\n",
       "      <td>cellular</td>\n",
       "      <td>may</td>\n",
       "      <td>no</td>\n",
       "    </tr>\n",
       "    <tr>\n",
       "      <th>freq</th>\n",
       "      <td>9383</td>\n",
       "      <td>24386</td>\n",
       "      <td>20993</td>\n",
       "      <td>39191</td>\n",
       "      <td>24031</td>\n",
       "      <td>33070</td>\n",
       "      <td>24914</td>\n",
       "      <td>13532</td>\n",
       "      <td>37104</td>\n",
       "    </tr>\n",
       "  </tbody>\n",
       "</table>\n",
       "</div>"
      ],
      "text/plain": [
       "                job  marital  education default housing   loan   contact  \\\n",
       "count         40000    40000      40000   40000   40000  40000     40000   \n",
       "unique           12        3          4       2       2      2         3   \n",
       "top     blue-collar  married  secondary      no     yes     no  cellular   \n",
       "freq           9383    24386      20993   39191   24031  33070     24914   \n",
       "\n",
       "        month      y  \n",
       "count   40000  40000  \n",
       "unique     11      2  \n",
       "top       may     no  \n",
       "freq    13532  37104  "
      ]
     },
     "execution_count": 47,
     "metadata": {},
     "output_type": "execute_result"
    }
   ],
   "source": [
    "df.describe(include = 'object')"
   ]
  },
  {
   "cell_type": "code",
   "execution_count": 48,
   "id": "f6bebf40",
   "metadata": {},
   "outputs": [
    {
     "data": {
      "text/plain": [
       "age          0\n",
       "job          0\n",
       "marital      0\n",
       "education    0\n",
       "default      0\n",
       "balance      0\n",
       "housing      0\n",
       "loan         0\n",
       "contact      0\n",
       "day          0\n",
       "month        0\n",
       "duration     0\n",
       "campaign     0\n",
       "y            0\n",
       "dtype: int64"
      ]
     },
     "execution_count": 48,
     "metadata": {},
     "output_type": "execute_result"
    }
   ],
   "source": [
    "df.isnull().sum()"
   ]
  },
  {
   "cell_type": "markdown",
   "id": "0aca1b75",
   "metadata": {},
   "source": [
    "## Exploring and engineering the categorical features of the data frame"
   ]
  },
  {
   "cell_type": "code",
   "execution_count": 49,
   "id": "8f0d6faf",
   "metadata": {},
   "outputs": [
    {
     "data": {
      "text/plain": [
       "blue-collar      9383\n",
       "management       8166\n",
       "technician       6852\n",
       "admin            4483\n",
       "services         3910\n",
       "retired          1437\n",
       "self-employed    1414\n",
       "entrepreneur     1405\n",
       "unemployed       1104\n",
       "housemaid        1087\n",
       "student           524\n",
       "unknown           235\n",
       "Name: job, dtype: int64"
      ]
     },
     "execution_count": 49,
     "metadata": {},
     "output_type": "execute_result"
    }
   ],
   "source": [
    "df['job'].value_counts()"
   ]
  },
  {
   "cell_type": "code",
   "execution_count": 50,
   "id": "f168a414",
   "metadata": {},
   "outputs": [
    {
     "data": {
      "image/png": "[encoded data removed]",
      "text/plain": [
       "<Figure size 720x432 with 1 Axes>"
      ]
     },
     "metadata": {
      "needs_background": "light"
     },
     "output_type": "display_data"
    }
   ],
   "source": [
    "f, ax = plt.subplots(figsize=(10,6))\n",
    "job = sns.countplot(x = 'job', hue = \"y\", data = df)\n",
    "job.set_xlabel('Kind of Job', size = 19)\n",
    "job.set_ylabel('Count', size = 19)\n",
    "plt.xticks(rotation =90);"
   ]
  },
  {
   "cell_type": "code",
   "execution_count": 51,
   "id": "6e71e06a",
   "metadata": {},
   "outputs": [
    {
     "data": {
      "text/plain": [
       "0.5875"
      ]
     },
     "execution_count": 51,
     "metadata": {},
     "output_type": "execute_result"
    }
   ],
   "source": [
    "#The percentage of unknown job titles!\n",
    "\n",
    "unknownJob_percentage = 100 * ((df['job'] == 'unknown').sum()) / df['job'].value_counts().sum()\n",
    "unknownJob_percentage"
   ]
  },
  {
   "cell_type": "code",
   "execution_count": 52,
   "id": "2616c82f",
   "metadata": {},
   "outputs": [],
   "source": [
    "# Encoding the job feature\n",
    "\n",
    "encoded_jobs = pd.get_dummies(df['job'], prefix='job')\n",
    "df = df.drop('job', axis=1)\n",
    "df = pd.concat([df, encoded_jobs], axis=1)\n"
   ]
  },
  {
   "cell_type": "code",
   "execution_count": 53,
   "id": "722266dd",
   "metadata": {},
   "outputs": [
    {
     "data": {
      "text/plain": [
       "married     24386\n",
       "single      10889\n",
       "divorced     4725\n",
       "Name: marital, dtype: int64"
      ]
     },
     "execution_count": 53,
     "metadata": {},
     "output_type": "execute_result"
    }
   ],
   "source": [
    "df['marital'].value_counts()"
   ]
  },
  {
   "cell_type": "code",
   "execution_count": 54,
   "id": "da54fcda",
   "metadata": {},
   "outputs": [
    {
     "data": {
      "text/plain": [
       "Text(0, 0.5, 'Count')"
      ]
     },
     "execution_count": 54,
     "metadata": {},
     "output_type": "execute_result"
    },
    {
     "data": {
      "image/png": "[encoded data removed]",
      "text/plain": [
       "<Figure size 576x432 with 1 Axes>"
      ]
     },
     "metadata": {
      "needs_background": "light"
     },
     "output_type": "display_data"
    }
   ],
   "source": [
    "f, ax = plt.subplots(figsize=(8,6))\n",
    "marital = sns.countplot(x = 'marital', hue = \"y\", palette=sns.color_palette(\"Accent\"), data = df)\n",
    "marital.set_xlabel('Marital Status', size = 19)\n",
    "marital.set_ylabel('Count', size = 19)"
   ]
  },
  {
   "cell_type": "code",
   "execution_count": 55,
   "id": "83334f56",
   "metadata": {},
   "outputs": [],
   "source": [
    "encoded_marital = pd.get_dummies(df['marital'], prefix='marital')\n",
    "df = df.drop('marital', axis=1)\n",
    "df = pd.concat([df, encoded_marital], axis=1)"
   ]
  },
  {
   "cell_type": "code",
   "execution_count": 56,
   "id": "7db2c914",
   "metadata": {},
   "outputs": [
    {
     "data": {
      "text/plain": [
       "secondary    20993\n",
       "tertiary     11206\n",
       "primary       6270\n",
       "unknown       1531\n",
       "Name: education, dtype: int64"
      ]
     },
     "execution_count": 56,
     "metadata": {},
     "output_type": "execute_result"
    }
   ],
   "source": [
    "df['education'].value_counts()"
   ]
  },
  {
   "cell_type": "markdown",
   "id": "273fd2f4",
   "metadata": {},
   "source": [
    "#### The unknown answer for education level is only 4% of the total number of rows!"
   ]
  },
  {
   "cell_type": "code",
   "execution_count": 57,
   "id": "98dbbb8a",
   "metadata": {},
   "outputs": [
    {
     "data": {
      "text/plain": [
       "3.8275"
      ]
     },
     "execution_count": 57,
     "metadata": {},
     "output_type": "execute_result"
    }
   ],
   "source": [
    "unknownEducation_percentage = 100 * ((df['education'] == 'unknown').sum()) / df['education'].value_counts().sum()\n",
    "unknownEducation_percentage"
   ]
  },
  {
   "cell_type": "code",
   "execution_count": 58,
   "id": "b645b61e",
   "metadata": {},
   "outputs": [
    {
     "data": {
      "text/plain": [
       "Text(0, 0.5, 'Count')"
      ]
     },
     "execution_count": 58,
     "metadata": {},
     "output_type": "execute_result"
    },
    {
     "data": {
      "image/png": "[encoded data removed]",
      "text/plain": [
       "<Figure size 576x432 with 1 Axes>"
      ]
     },
     "metadata": {
      "needs_background": "light"
     },
     "output_type": "display_data"
    }
   ],
   "source": [
    "f, ax = plt.subplots(figsize=(8,6))\n",
    "education = sns.countplot(x = 'education', hue = \"y\", palette=sns.color_palette(\"tab10\"), data = df)\n",
    "education.set_xlabel('Educaiton Level', size = 19)\n",
    "education.set_ylabel('Count', size = 19)"
   ]
  },
  {
   "cell_type": "code",
   "execution_count": 59,
   "id": "84c66cb2",
   "metadata": {},
   "outputs": [],
   "source": [
    "encoded_education = pd.get_dummies(df['education'], prefix='education')\n",
    "df = df.drop('education', axis=1)\n",
    "df = pd.concat([df, encoded_education], axis=1)"
   ]
  },
  {
   "cell_type": "code",
   "execution_count": 60,
   "id": "0d7f0d7a",
   "metadata": {},
   "outputs": [
    {
     "data": {
      "image/png": "[encoded data removed]",
      "text/plain": [
       "<Figure size 1152x432 with 3 Axes>"
      ]
     },
     "metadata": {
      "needs_background": "light"
     },
     "output_type": "display_data"
    }
   ],
   "source": [
    "f, ax = plt.subplots(1,3, figsize=(16,6))\n",
    "default = sns.countplot(x = 'default', hue = 'y', ax = ax[0], data =df)\n",
    "housing = sns.countplot(x = 'housing', hue = 'y', ax = ax [1], data = df)\n",
    "loan = sns.countplot(x = 'loan', hue = 'y', ax = ax [2], data = df)\n",
    "plt.tight_layout()"
   ]
  },
  {
   "cell_type": "code",
   "execution_count": 61,
   "id": "43ede598",
   "metadata": {},
   "outputs": [
    {
     "data": {
      "text/plain": [
       "no     39191\n",
       "yes      809\n",
       "Name: default, dtype: int64"
      ]
     },
     "execution_count": 61,
     "metadata": {},
     "output_type": "execute_result"
    }
   ],
   "source": [
    "df['default'].value_counts()"
   ]
  },
  {
   "cell_type": "code",
   "execution_count": 62,
   "id": "47f81358",
   "metadata": {},
   "outputs": [
    {
     "data": {
      "text/html": [
       "<div>\n",
       "<style scoped>\n",
       "    .dataframe tbody tr th:only-of-type {\n",
       "        vertical-align: middle;\n",
       "    }\n",
       "\n",
       "    .dataframe tbody tr th {\n",
       "        vertical-align: top;\n",
       "    }\n",
       "\n",
       "    .dataframe thead th {\n",
       "        text-align: right;\n",
       "    }\n",
       "</style>\n",
       "<table border=\"1\" class=\"dataframe\">\n",
       "  <thead>\n",
       "    <tr style=\"text-align: right;\">\n",
       "      <th></th>\n",
       "      <th>age</th>\n",
       "      <th>default</th>\n",
       "      <th>balance</th>\n",
       "      <th>housing</th>\n",
       "      <th>loan</th>\n",
       "      <th>contact</th>\n",
       "      <th>day</th>\n",
       "      <th>month</th>\n",
       "      <th>duration</th>\n",
       "      <th>campaign</th>\n",
       "      <th>...</th>\n",
       "      <th>job_technician</th>\n",
       "      <th>job_unemployed</th>\n",
       "      <th>job_unknown</th>\n",
       "      <th>marital_divorced</th>\n",
       "      <th>marital_married</th>\n",
       "      <th>marital_single</th>\n",
       "      <th>education_primary</th>\n",
       "      <th>education_secondary</th>\n",
       "      <th>education_tertiary</th>\n",
       "      <th>education_unknown</th>\n",
       "    </tr>\n",
       "  </thead>\n",
       "  <tbody>\n",
       "    <tr>\n",
       "      <th>0</th>\n",
       "      <td>58</td>\n",
       "      <td>0</td>\n",
       "      <td>2143</td>\n",
       "      <td>1</td>\n",
       "      <td>1</td>\n",
       "      <td>unknown</td>\n",
       "      <td>5</td>\n",
       "      <td>may</td>\n",
       "      <td>261</td>\n",
       "      <td>1</td>\n",
       "      <td>...</td>\n",
       "      <td>0</td>\n",
       "      <td>0</td>\n",
       "      <td>0</td>\n",
       "      <td>0</td>\n",
       "      <td>1</td>\n",
       "      <td>0</td>\n",
       "      <td>0</td>\n",
       "      <td>0</td>\n",
       "      <td>1</td>\n",
       "      <td>0</td>\n",
       "    </tr>\n",
       "    <tr>\n",
       "      <th>1</th>\n",
       "      <td>44</td>\n",
       "      <td>0</td>\n",
       "      <td>29</td>\n",
       "      <td>1</td>\n",
       "      <td>1</td>\n",
       "      <td>unknown</td>\n",
       "      <td>5</td>\n",
       "      <td>may</td>\n",
       "      <td>151</td>\n",
       "      <td>1</td>\n",
       "      <td>...</td>\n",
       "      <td>1</td>\n",
       "      <td>0</td>\n",
       "      <td>0</td>\n",
       "      <td>0</td>\n",
       "      <td>0</td>\n",
       "      <td>1</td>\n",
       "      <td>0</td>\n",
       "      <td>1</td>\n",
       "      <td>0</td>\n",
       "      <td>0</td>\n",
       "    </tr>\n",
       "    <tr>\n",
       "      <th>2</th>\n",
       "      <td>33</td>\n",
       "      <td>0</td>\n",
       "      <td>2</td>\n",
       "      <td>1</td>\n",
       "      <td>0</td>\n",
       "      <td>unknown</td>\n",
       "      <td>5</td>\n",
       "      <td>may</td>\n",
       "      <td>76</td>\n",
       "      <td>1</td>\n",
       "      <td>...</td>\n",
       "      <td>0</td>\n",
       "      <td>0</td>\n",
       "      <td>0</td>\n",
       "      <td>0</td>\n",
       "      <td>1</td>\n",
       "      <td>0</td>\n",
       "      <td>0</td>\n",
       "      <td>1</td>\n",
       "      <td>0</td>\n",
       "      <td>0</td>\n",
       "    </tr>\n",
       "    <tr>\n",
       "      <th>3</th>\n",
       "      <td>47</td>\n",
       "      <td>0</td>\n",
       "      <td>1506</td>\n",
       "      <td>1</td>\n",
       "      <td>1</td>\n",
       "      <td>unknown</td>\n",
       "      <td>5</td>\n",
       "      <td>may</td>\n",
       "      <td>92</td>\n",
       "      <td>1</td>\n",
       "      <td>...</td>\n",
       "      <td>0</td>\n",
       "      <td>0</td>\n",
       "      <td>0</td>\n",
       "      <td>0</td>\n",
       "      <td>1</td>\n",
       "      <td>0</td>\n",
       "      <td>0</td>\n",
       "      <td>0</td>\n",
       "      <td>0</td>\n",
       "      <td>1</td>\n",
       "    </tr>\n",
       "    <tr>\n",
       "      <th>4</th>\n",
       "      <td>33</td>\n",
       "      <td>0</td>\n",
       "      <td>1</td>\n",
       "      <td>0</td>\n",
       "      <td>1</td>\n",
       "      <td>unknown</td>\n",
       "      <td>5</td>\n",
       "      <td>may</td>\n",
       "      <td>198</td>\n",
       "      <td>1</td>\n",
       "      <td>...</td>\n",
       "      <td>0</td>\n",
       "      <td>0</td>\n",
       "      <td>1</td>\n",
       "      <td>0</td>\n",
       "      <td>0</td>\n",
       "      <td>1</td>\n",
       "      <td>0</td>\n",
       "      <td>0</td>\n",
       "      <td>0</td>\n",
       "      <td>1</td>\n",
       "    </tr>\n",
       "    <tr>\n",
       "      <th>...</th>\n",
       "      <td>...</td>\n",
       "      <td>...</td>\n",
       "      <td>...</td>\n",
       "      <td>...</td>\n",
       "      <td>...</td>\n",
       "      <td>...</td>\n",
       "      <td>...</td>\n",
       "      <td>...</td>\n",
       "      <td>...</td>\n",
       "      <td>...</td>\n",
       "      <td>...</td>\n",
       "      <td>...</td>\n",
       "      <td>...</td>\n",
       "      <td>...</td>\n",
       "      <td>...</td>\n",
       "      <td>...</td>\n",
       "      <td>...</td>\n",
       "      <td>...</td>\n",
       "      <td>...</td>\n",
       "      <td>...</td>\n",
       "      <td>...</td>\n",
       "    </tr>\n",
       "    <tr>\n",
       "      <th>39995</th>\n",
       "      <td>53</td>\n",
       "      <td>0</td>\n",
       "      <td>395</td>\n",
       "      <td>0</td>\n",
       "      <td>1</td>\n",
       "      <td>cellular</td>\n",
       "      <td>3</td>\n",
       "      <td>jun</td>\n",
       "      <td>107</td>\n",
       "      <td>1</td>\n",
       "      <td>...</td>\n",
       "      <td>1</td>\n",
       "      <td>0</td>\n",
       "      <td>0</td>\n",
       "      <td>0</td>\n",
       "      <td>1</td>\n",
       "      <td>0</td>\n",
       "      <td>0</td>\n",
       "      <td>0</td>\n",
       "      <td>1</td>\n",
       "      <td>0</td>\n",
       "    </tr>\n",
       "    <tr>\n",
       "      <th>39996</th>\n",
       "      <td>30</td>\n",
       "      <td>0</td>\n",
       "      <td>3340</td>\n",
       "      <td>0</td>\n",
       "      <td>1</td>\n",
       "      <td>cellular</td>\n",
       "      <td>3</td>\n",
       "      <td>jun</td>\n",
       "      <td>238</td>\n",
       "      <td>3</td>\n",
       "      <td>...</td>\n",
       "      <td>0</td>\n",
       "      <td>0</td>\n",
       "      <td>0</td>\n",
       "      <td>0</td>\n",
       "      <td>0</td>\n",
       "      <td>1</td>\n",
       "      <td>0</td>\n",
       "      <td>0</td>\n",
       "      <td>1</td>\n",
       "      <td>0</td>\n",
       "    </tr>\n",
       "    <tr>\n",
       "      <th>39997</th>\n",
       "      <td>54</td>\n",
       "      <td>0</td>\n",
       "      <td>200</td>\n",
       "      <td>0</td>\n",
       "      <td>1</td>\n",
       "      <td>cellular</td>\n",
       "      <td>3</td>\n",
       "      <td>jun</td>\n",
       "      <td>170</td>\n",
       "      <td>1</td>\n",
       "      <td>...</td>\n",
       "      <td>0</td>\n",
       "      <td>0</td>\n",
       "      <td>0</td>\n",
       "      <td>1</td>\n",
       "      <td>0</td>\n",
       "      <td>0</td>\n",
       "      <td>0</td>\n",
       "      <td>1</td>\n",
       "      <td>0</td>\n",
       "      <td>0</td>\n",
       "    </tr>\n",
       "    <tr>\n",
       "      <th>39998</th>\n",
       "      <td>34</td>\n",
       "      <td>0</td>\n",
       "      <td>1047</td>\n",
       "      <td>0</td>\n",
       "      <td>1</td>\n",
       "      <td>cellular</td>\n",
       "      <td>3</td>\n",
       "      <td>jun</td>\n",
       "      <td>342</td>\n",
       "      <td>1</td>\n",
       "      <td>...</td>\n",
       "      <td>0</td>\n",
       "      <td>0</td>\n",
       "      <td>0</td>\n",
       "      <td>0</td>\n",
       "      <td>1</td>\n",
       "      <td>0</td>\n",
       "      <td>0</td>\n",
       "      <td>0</td>\n",
       "      <td>1</td>\n",
       "      <td>0</td>\n",
       "    </tr>\n",
       "    <tr>\n",
       "      <th>39999</th>\n",
       "      <td>38</td>\n",
       "      <td>0</td>\n",
       "      <td>1442</td>\n",
       "      <td>1</td>\n",
       "      <td>1</td>\n",
       "      <td>cellular</td>\n",
       "      <td>3</td>\n",
       "      <td>jun</td>\n",
       "      <td>113</td>\n",
       "      <td>1</td>\n",
       "      <td>...</td>\n",
       "      <td>1</td>\n",
       "      <td>0</td>\n",
       "      <td>0</td>\n",
       "      <td>0</td>\n",
       "      <td>1</td>\n",
       "      <td>0</td>\n",
       "      <td>0</td>\n",
       "      <td>1</td>\n",
       "      <td>0</td>\n",
       "      <td>0</td>\n",
       "    </tr>\n",
       "  </tbody>\n",
       "</table>\n",
       "<p>40000 rows × 30 columns</p>\n",
       "</div>"
      ],
      "text/plain": [
       "       age  default  balance  housing  loan   contact  day month  duration  \\\n",
       "0       58        0     2143        1     1   unknown    5   may       261   \n",
       "1       44        0       29        1     1   unknown    5   may       151   \n",
       "2       33        0        2        1     0   unknown    5   may        76   \n",
       "3       47        0     1506        1     1   unknown    5   may        92   \n",
       "4       33        0        1        0     1   unknown    5   may       198   \n",
       "...    ...      ...      ...      ...   ...       ...  ...   ...       ...   \n",
       "39995   53        0      395        0     1  cellular    3   jun       107   \n",
       "39996   30        0     3340        0     1  cellular    3   jun       238   \n",
       "39997   54        0      200        0     1  cellular    3   jun       170   \n",
       "39998   34        0     1047        0     1  cellular    3   jun       342   \n",
       "39999   38        0     1442        1     1  cellular    3   jun       113   \n",
       "\n",
       "       campaign  ... job_technician  job_unemployed  job_unknown  \\\n",
       "0             1  ...              0               0            0   \n",
       "1             1  ...              1               0            0   \n",
       "2             1  ...              0               0            0   \n",
       "3             1  ...              0               0            0   \n",
       "4             1  ...              0               0            1   \n",
       "...         ...  ...            ...             ...          ...   \n",
       "39995         1  ...              1               0            0   \n",
       "39996         3  ...              0               0            0   \n",
       "39997         1  ...              0               0            0   \n",
       "39998         1  ...              0               0            0   \n",
       "39999         1  ...              1               0            0   \n",
       "\n",
       "       marital_divorced  marital_married  marital_single  education_primary  \\\n",
       "0                     0                1               0                  0   \n",
       "1                     0                0               1                  0   \n",
       "2                     0                1               0                  0   \n",
       "3                     0                1               0                  0   \n",
       "4                     0                0               1                  0   \n",
       "...                 ...              ...             ...                ...   \n",
       "39995                 0                1               0                  0   \n",
       "39996                 0                0               1                  0   \n",
       "39997                 1                0               0                  0   \n",
       "39998                 0                1               0                  0   \n",
       "39999                 0                1               0                  0   \n",
       "\n",
       "       education_secondary  education_tertiary  education_unknown  \n",
       "0                        0                   1                  0  \n",
       "1                        1                   0                  0  \n",
       "2                        1                   0                  0  \n",
       "3                        0                   0                  1  \n",
       "4                        0                   0                  1  \n",
       "...                    ...                 ...                ...  \n",
       "39995                    0                   1                  0  \n",
       "39996                    0                   1                  0  \n",
       "39997                    1                   0                  0  \n",
       "39998                    0                   1                  0  \n",
       "39999                    1                   0                  0  \n",
       "\n",
       "[40000 rows x 30 columns]"
      ]
     },
     "execution_count": 62,
     "metadata": {},
     "output_type": "execute_result"
    }
   ],
   "source": [
    "df['default'] = df['default'].map(lambda x:1 if x == 'yes' else 0)\n",
    "df['housing'] = df['housing'].map(lambda x:1 if x == 'yes' else 0)\n",
    "df['loan'] = df['loan'].map(lambda x:1 if x == 'no' else 0)\n",
    "df"
   ]
  },
  {
   "cell_type": "code",
   "execution_count": 63,
   "id": "53748b2e",
   "metadata": {},
   "outputs": [
    {
     "data": {
      "text/plain": [
       "Text(0, 0.5, 'Count')"
      ]
     },
     "execution_count": 63,
     "metadata": {},
     "output_type": "execute_result"
    },
    {
     "data": {
      "image/png": "[encoded data removed]",
      "text/plain": [
       "<Figure size 576x432 with 1 Axes>"
      ]
     },
     "metadata": {
      "needs_background": "light"
     },
     "output_type": "display_data"
    }
   ],
   "source": [
    "f, ax = plt.subplots(figsize=(8,6))\n",
    "education = sns.countplot(x = 'contact', hue = \"y\", palette=sns.color_palette(\"Paired\"), data = df)\n",
    "education.set_xlabel('Contact method', size = 19)\n",
    "education.set_ylabel('Count', size = 19)"
   ]
  },
  {
   "cell_type": "code",
   "execution_count": 64,
   "id": "d7291973",
   "metadata": {},
   "outputs": [],
   "source": [
    "encoded_contact = pd.get_dummies(df['contact'], prefix='contact')\n",
    "df = df.drop('contact', axis=1)\n",
    "df = pd.concat([df, encoded_contact], axis=1)"
   ]
  },
  {
   "cell_type": "code",
   "execution_count": null,
   "id": "cc9c7ba3",
   "metadata": {},
   "outputs": [],
   "source": []
  },
  {
   "cell_type": "code",
   "execution_count": 65,
   "id": "294ab573",
   "metadata": {},
   "outputs": [
    {
     "data": {
      "text/plain": [
       "Text(0, 0.5, 'Count')"
      ]
     },
     "execution_count": 65,
     "metadata": {},
     "output_type": "execute_result"
    },
    {
     "data": {
      "image/png": "[encoded data removed]",
      "text/plain": [
       "<Figure size 720x432 with 1 Axes>"
      ]
     },
     "metadata": {
      "needs_background": "light"
     },
     "output_type": "display_data"
    }
   ],
   "source": [
    "f, ax = plt.subplots(figsize=(10,6))\n",
    "education = sns.countplot(x = 'month', hue = \"y\", palette=sns.color_palette(\"tab10\"), data = df)\n",
    "education.set_xlabel('Month of the Year', size = 19)\n",
    "education.set_ylabel('Count', size = 19)"
   ]
  },
  {
   "cell_type": "code",
   "execution_count": 66,
   "id": "e7ada1b1",
   "metadata": {},
   "outputs": [
    {
     "data": {
      "text/plain": [
       "may    13532\n",
       "jul     6380\n",
       "aug     5215\n",
       "jun     4734\n",
       "nov     3598\n",
       "apr     2718\n",
       "feb     2296\n",
       "jan     1176\n",
       "mar      258\n",
       "oct       80\n",
       "dec       13\n",
       "Name: month, dtype: int64"
      ]
     },
     "execution_count": 66,
     "metadata": {},
     "output_type": "execute_result"
    }
   ],
   "source": [
    "df['month'].value_counts()"
   ]
  },
  {
   "cell_type": "code",
   "execution_count": 67,
   "id": "e79bb55b",
   "metadata": {},
   "outputs": [],
   "source": [
    "replace_map = {'month': {'apr': 'firstHalf', 'may':'firstHalf', 'jun':'firstHalf', \n",
    "                       'jul':'firstHalf', 'aug':'firstHalf', 'oct':'secondHalf',\n",
    "                      'nov':'secondHalf', 'dec':'secondHalf', 'jan':'secondHalf',\n",
    "                      'feb':'secondHalf', 'mar':'secondHalf'}\n",
    "              }"
   ]
  },
  {
   "cell_type": "code",
   "execution_count": 68,
   "id": "8d9fe038",
   "metadata": {},
   "outputs": [],
   "source": [
    "df = df.replace(replace_map)"
   ]
  },
  {
   "cell_type": "code",
   "execution_count": 69,
   "id": "057f3008",
   "metadata": {},
   "outputs": [],
   "source": [
    "encoded_month = pd.get_dummies(df['month'], prefix='month')\n",
    "df = df.drop('month', axis=1)\n",
    "df = pd.concat([df, encoded_month], axis=1)"
   ]
  },
  {
   "cell_type": "code",
   "execution_count": 70,
   "id": "129ceae7",
   "metadata": {},
   "outputs": [
    {
     "data": {
      "text/html": [
       "<div>\n",
       "<style scoped>\n",
       "    .dataframe tbody tr th:only-of-type {\n",
       "        vertical-align: middle;\n",
       "    }\n",
       "\n",
       "    .dataframe tbody tr th {\n",
       "        vertical-align: top;\n",
       "    }\n",
       "\n",
       "    .dataframe thead th {\n",
       "        text-align: right;\n",
       "    }\n",
       "</style>\n",
       "<table border=\"1\" class=\"dataframe\">\n",
       "  <thead>\n",
       "    <tr style=\"text-align: right;\">\n",
       "      <th></th>\n",
       "      <th>age</th>\n",
       "      <th>default</th>\n",
       "      <th>balance</th>\n",
       "      <th>housing</th>\n",
       "      <th>loan</th>\n",
       "      <th>day</th>\n",
       "      <th>duration</th>\n",
       "      <th>campaign</th>\n",
       "      <th>y</th>\n",
       "      <th>job_admin</th>\n",
       "      <th>...</th>\n",
       "      <th>marital_single</th>\n",
       "      <th>education_primary</th>\n",
       "      <th>education_secondary</th>\n",
       "      <th>education_tertiary</th>\n",
       "      <th>education_unknown</th>\n",
       "      <th>contact_cellular</th>\n",
       "      <th>contact_telephone</th>\n",
       "      <th>contact_unknown</th>\n",
       "      <th>month_firstHalf</th>\n",
       "      <th>month_secondHalf</th>\n",
       "    </tr>\n",
       "  </thead>\n",
       "  <tbody>\n",
       "    <tr>\n",
       "      <th>0</th>\n",
       "      <td>58</td>\n",
       "      <td>0</td>\n",
       "      <td>2143</td>\n",
       "      <td>1</td>\n",
       "      <td>1</td>\n",
       "      <td>5</td>\n",
       "      <td>261</td>\n",
       "      <td>1</td>\n",
       "      <td>no</td>\n",
       "      <td>0</td>\n",
       "      <td>...</td>\n",
       "      <td>0</td>\n",
       "      <td>0</td>\n",
       "      <td>0</td>\n",
       "      <td>1</td>\n",
       "      <td>0</td>\n",
       "      <td>0</td>\n",
       "      <td>0</td>\n",
       "      <td>1</td>\n",
       "      <td>1</td>\n",
       "      <td>0</td>\n",
       "    </tr>\n",
       "    <tr>\n",
       "      <th>1</th>\n",
       "      <td>44</td>\n",
       "      <td>0</td>\n",
       "      <td>29</td>\n",
       "      <td>1</td>\n",
       "      <td>1</td>\n",
       "      <td>5</td>\n",
       "      <td>151</td>\n",
       "      <td>1</td>\n",
       "      <td>no</td>\n",
       "      <td>0</td>\n",
       "      <td>...</td>\n",
       "      <td>1</td>\n",
       "      <td>0</td>\n",
       "      <td>1</td>\n",
       "      <td>0</td>\n",
       "      <td>0</td>\n",
       "      <td>0</td>\n",
       "      <td>0</td>\n",
       "      <td>1</td>\n",
       "      <td>1</td>\n",
       "      <td>0</td>\n",
       "    </tr>\n",
       "    <tr>\n",
       "      <th>2</th>\n",
       "      <td>33</td>\n",
       "      <td>0</td>\n",
       "      <td>2</td>\n",
       "      <td>1</td>\n",
       "      <td>0</td>\n",
       "      <td>5</td>\n",
       "      <td>76</td>\n",
       "      <td>1</td>\n",
       "      <td>no</td>\n",
       "      <td>0</td>\n",
       "      <td>...</td>\n",
       "      <td>0</td>\n",
       "      <td>0</td>\n",
       "      <td>1</td>\n",
       "      <td>0</td>\n",
       "      <td>0</td>\n",
       "      <td>0</td>\n",
       "      <td>0</td>\n",
       "      <td>1</td>\n",
       "      <td>1</td>\n",
       "      <td>0</td>\n",
       "    </tr>\n",
       "    <tr>\n",
       "      <th>3</th>\n",
       "      <td>47</td>\n",
       "      <td>0</td>\n",
       "      <td>1506</td>\n",
       "      <td>1</td>\n",
       "      <td>1</td>\n",
       "      <td>5</td>\n",
       "      <td>92</td>\n",
       "      <td>1</td>\n",
       "      <td>no</td>\n",
       "      <td>0</td>\n",
       "      <td>...</td>\n",
       "      <td>0</td>\n",
       "      <td>0</td>\n",
       "      <td>0</td>\n",
       "      <td>0</td>\n",
       "      <td>1</td>\n",
       "      <td>0</td>\n",
       "      <td>0</td>\n",
       "      <td>1</td>\n",
       "      <td>1</td>\n",
       "      <td>0</td>\n",
       "    </tr>\n",
       "    <tr>\n",
       "      <th>4</th>\n",
       "      <td>33</td>\n",
       "      <td>0</td>\n",
       "      <td>1</td>\n",
       "      <td>0</td>\n",
       "      <td>1</td>\n",
       "      <td>5</td>\n",
       "      <td>198</td>\n",
       "      <td>1</td>\n",
       "      <td>no</td>\n",
       "      <td>0</td>\n",
       "      <td>...</td>\n",
       "      <td>1</td>\n",
       "      <td>0</td>\n",
       "      <td>0</td>\n",
       "      <td>0</td>\n",
       "      <td>1</td>\n",
       "      <td>0</td>\n",
       "      <td>0</td>\n",
       "      <td>1</td>\n",
       "      <td>1</td>\n",
       "      <td>0</td>\n",
       "    </tr>\n",
       "    <tr>\n",
       "      <th>...</th>\n",
       "      <td>...</td>\n",
       "      <td>...</td>\n",
       "      <td>...</td>\n",
       "      <td>...</td>\n",
       "      <td>...</td>\n",
       "      <td>...</td>\n",
       "      <td>...</td>\n",
       "      <td>...</td>\n",
       "      <td>...</td>\n",
       "      <td>...</td>\n",
       "      <td>...</td>\n",
       "      <td>...</td>\n",
       "      <td>...</td>\n",
       "      <td>...</td>\n",
       "      <td>...</td>\n",
       "      <td>...</td>\n",
       "      <td>...</td>\n",
       "      <td>...</td>\n",
       "      <td>...</td>\n",
       "      <td>...</td>\n",
       "      <td>...</td>\n",
       "    </tr>\n",
       "    <tr>\n",
       "      <th>39995</th>\n",
       "      <td>53</td>\n",
       "      <td>0</td>\n",
       "      <td>395</td>\n",
       "      <td>0</td>\n",
       "      <td>1</td>\n",
       "      <td>3</td>\n",
       "      <td>107</td>\n",
       "      <td>1</td>\n",
       "      <td>no</td>\n",
       "      <td>0</td>\n",
       "      <td>...</td>\n",
       "      <td>0</td>\n",
       "      <td>0</td>\n",
       "      <td>0</td>\n",
       "      <td>1</td>\n",
       "      <td>0</td>\n",
       "      <td>1</td>\n",
       "      <td>0</td>\n",
       "      <td>0</td>\n",
       "      <td>1</td>\n",
       "      <td>0</td>\n",
       "    </tr>\n",
       "    <tr>\n",
       "      <th>39996</th>\n",
       "      <td>30</td>\n",
       "      <td>0</td>\n",
       "      <td>3340</td>\n",
       "      <td>0</td>\n",
       "      <td>1</td>\n",
       "      <td>3</td>\n",
       "      <td>238</td>\n",
       "      <td>3</td>\n",
       "      <td>yes</td>\n",
       "      <td>0</td>\n",
       "      <td>...</td>\n",
       "      <td>1</td>\n",
       "      <td>0</td>\n",
       "      <td>0</td>\n",
       "      <td>1</td>\n",
       "      <td>0</td>\n",
       "      <td>1</td>\n",
       "      <td>0</td>\n",
       "      <td>0</td>\n",
       "      <td>1</td>\n",
       "      <td>0</td>\n",
       "    </tr>\n",
       "    <tr>\n",
       "      <th>39997</th>\n",
       "      <td>54</td>\n",
       "      <td>0</td>\n",
       "      <td>200</td>\n",
       "      <td>0</td>\n",
       "      <td>1</td>\n",
       "      <td>3</td>\n",
       "      <td>170</td>\n",
       "      <td>1</td>\n",
       "      <td>yes</td>\n",
       "      <td>1</td>\n",
       "      <td>...</td>\n",
       "      <td>0</td>\n",
       "      <td>0</td>\n",
       "      <td>1</td>\n",
       "      <td>0</td>\n",
       "      <td>0</td>\n",
       "      <td>1</td>\n",
       "      <td>0</td>\n",
       "      <td>0</td>\n",
       "      <td>1</td>\n",
       "      <td>0</td>\n",
       "    </tr>\n",
       "    <tr>\n",
       "      <th>39998</th>\n",
       "      <td>34</td>\n",
       "      <td>0</td>\n",
       "      <td>1047</td>\n",
       "      <td>0</td>\n",
       "      <td>1</td>\n",
       "      <td>3</td>\n",
       "      <td>342</td>\n",
       "      <td>1</td>\n",
       "      <td>no</td>\n",
       "      <td>0</td>\n",
       "      <td>...</td>\n",
       "      <td>0</td>\n",
       "      <td>0</td>\n",
       "      <td>0</td>\n",
       "      <td>1</td>\n",
       "      <td>0</td>\n",
       "      <td>1</td>\n",
       "      <td>0</td>\n",
       "      <td>0</td>\n",
       "      <td>1</td>\n",
       "      <td>0</td>\n",
       "    </tr>\n",
       "    <tr>\n",
       "      <th>39999</th>\n",
       "      <td>38</td>\n",
       "      <td>0</td>\n",
       "      <td>1442</td>\n",
       "      <td>1</td>\n",
       "      <td>1</td>\n",
       "      <td>3</td>\n",
       "      <td>113</td>\n",
       "      <td>1</td>\n",
       "      <td>no</td>\n",
       "      <td>0</td>\n",
       "      <td>...</td>\n",
       "      <td>0</td>\n",
       "      <td>0</td>\n",
       "      <td>1</td>\n",
       "      <td>0</td>\n",
       "      <td>0</td>\n",
       "      <td>1</td>\n",
       "      <td>0</td>\n",
       "      <td>0</td>\n",
       "      <td>1</td>\n",
       "      <td>0</td>\n",
       "    </tr>\n",
       "  </tbody>\n",
       "</table>\n",
       "<p>40000 rows × 33 columns</p>\n",
       "</div>"
      ],
      "text/plain": [
       "       age  default  balance  housing  loan  day  duration  campaign    y  \\\n",
       "0       58        0     2143        1     1    5       261         1   no   \n",
       "1       44        0       29        1     1    5       151         1   no   \n",
       "2       33        0        2        1     0    5        76         1   no   \n",
       "3       47        0     1506        1     1    5        92         1   no   \n",
       "4       33        0        1        0     1    5       198         1   no   \n",
       "...    ...      ...      ...      ...   ...  ...       ...       ...  ...   \n",
       "39995   53        0      395        0     1    3       107         1   no   \n",
       "39996   30        0     3340        0     1    3       238         3  yes   \n",
       "39997   54        0      200        0     1    3       170         1  yes   \n",
       "39998   34        0     1047        0     1    3       342         1   no   \n",
       "39999   38        0     1442        1     1    3       113         1   no   \n",
       "\n",
       "       job_admin  ...  marital_single  education_primary  education_secondary  \\\n",
       "0              0  ...               0                  0                    0   \n",
       "1              0  ...               1                  0                    1   \n",
       "2              0  ...               0                  0                    1   \n",
       "3              0  ...               0                  0                    0   \n",
       "4              0  ...               1                  0                    0   \n",
       "...          ...  ...             ...                ...                  ...   \n",
       "39995          0  ...               0                  0                    0   \n",
       "39996          0  ...               1                  0                    0   \n",
       "39997          1  ...               0                  0                    1   \n",
       "39998          0  ...               0                  0                    0   \n",
       "39999          0  ...               0                  0                    1   \n",
       "\n",
       "       education_tertiary  education_unknown  contact_cellular  \\\n",
       "0                       1                  0                 0   \n",
       "1                       0                  0                 0   \n",
       "2                       0                  0                 0   \n",
       "3                       0                  1                 0   \n",
       "4                       0                  1                 0   \n",
       "...                   ...                ...               ...   \n",
       "39995                   1                  0                 1   \n",
       "39996                   1                  0                 1   \n",
       "39997                   0                  0                 1   \n",
       "39998                   1                  0                 1   \n",
       "39999                   0                  0                 1   \n",
       "\n",
       "       contact_telephone  contact_unknown  month_firstHalf  month_secondHalf  \n",
       "0                      0                1                1                 0  \n",
       "1                      0                1                1                 0  \n",
       "2                      0                1                1                 0  \n",
       "3                      0                1                1                 0  \n",
       "4                      0                1                1                 0  \n",
       "...                  ...              ...              ...               ...  \n",
       "39995                  0                0                1                 0  \n",
       "39996                  0                0                1                 0  \n",
       "39997                  0                0                1                 0  \n",
       "39998                  0                0                1                 0  \n",
       "39999                  0                0                1                 0  \n",
       "\n",
       "[40000 rows x 33 columns]"
      ]
     },
     "execution_count": 70,
     "metadata": {},
     "output_type": "execute_result"
    }
   ],
   "source": [
    "df"
   ]
  },
  {
   "cell_type": "code",
   "execution_count": 71,
   "id": "a0af8f04",
   "metadata": {},
   "outputs": [
    {
     "data": {
      "text/plain": [
       "<seaborn.axisgrid.FacetGrid at 0x1ea24755ee0>"
      ]
     },
     "execution_count": 71,
     "metadata": {},
     "output_type": "execute_result"
    },
    {
     "data": {
      "image/png": "[encoded data removed]",
      "text/plain": [
       "<Figure size 360x360 with 1 Axes>"
      ]
     },
     "metadata": {
      "needs_background": "light"
     },
     "output_type": "display_data"
    }
   ],
   "source": [
    "\n",
    "sns.displot(data=df, x='age', kde=True)\n"
   ]
  },
  {
   "cell_type": "code",
   "execution_count": 72,
   "id": "df788ea7",
   "metadata": {},
   "outputs": [],
   "source": [
    "# from sklearn.preprocessing import KBinsDiscretizer\n",
    "\n",
    "# kbd = KBinsDiscretizer(n_bins=10, encode='ordinal')\n",
    "# df['binned_age'] = kbd.fit_transform(df['age'].values.reshape(-1, 1)).astype('int')"
   ]
  },
  {
   "cell_type": "code",
   "execution_count": 73,
   "id": "e21f6512",
   "metadata": {},
   "outputs": [],
   "source": [
    "bins = [10, 20, 30, 40, 50, 60, 70, 80, 90, 100]\n",
    "\n",
    "labels = [15, 25, 35, 45, 55, 65, 75, 85, 95]\n",
    "\n",
    "df['age_range'] = pd.cut(df['age'], bins=bins, labels=labels)\n",
    "df['age_range'] = pd.to_numeric(df['age_range'])\n",
    "df =df.drop('age', axis=1)"
   ]
  },
  {
   "cell_type": "code",
   "execution_count": 74,
   "id": "bc9a47af",
   "metadata": {},
   "outputs": [],
   "source": [
    "df['y'] = df['y'].apply(lambda x:1 if x=='yes' else 0)"
   ]
  },
  {
   "cell_type": "code",
   "execution_count": 75,
   "id": "dc569a78",
   "metadata": {},
   "outputs": [
    {
     "data": {
      "text/html": [
       "<div>\n",
       "<style scoped>\n",
       "    .dataframe tbody tr th:only-of-type {\n",
       "        vertical-align: middle;\n",
       "    }\n",
       "\n",
       "    .dataframe tbody tr th {\n",
       "        vertical-align: top;\n",
       "    }\n",
       "\n",
       "    .dataframe thead th {\n",
       "        text-align: right;\n",
       "    }\n",
       "</style>\n",
       "<table border=\"1\" class=\"dataframe\">\n",
       "  <thead>\n",
       "    <tr style=\"text-align: right;\">\n",
       "      <th></th>\n",
       "      <th>default</th>\n",
       "      <th>balance</th>\n",
       "      <th>housing</th>\n",
       "      <th>loan</th>\n",
       "      <th>day</th>\n",
       "      <th>duration</th>\n",
       "      <th>campaign</th>\n",
       "      <th>y</th>\n",
       "      <th>job_admin</th>\n",
       "      <th>job_blue-collar</th>\n",
       "      <th>...</th>\n",
       "      <th>education_primary</th>\n",
       "      <th>education_secondary</th>\n",
       "      <th>education_tertiary</th>\n",
       "      <th>education_unknown</th>\n",
       "      <th>contact_cellular</th>\n",
       "      <th>contact_telephone</th>\n",
       "      <th>contact_unknown</th>\n",
       "      <th>month_firstHalf</th>\n",
       "      <th>month_secondHalf</th>\n",
       "      <th>age_range</th>\n",
       "    </tr>\n",
       "  </thead>\n",
       "  <tbody>\n",
       "    <tr>\n",
       "      <th>0</th>\n",
       "      <td>0</td>\n",
       "      <td>2143</td>\n",
       "      <td>1</td>\n",
       "      <td>1</td>\n",
       "      <td>5</td>\n",
       "      <td>261</td>\n",
       "      <td>1</td>\n",
       "      <td>0</td>\n",
       "      <td>0</td>\n",
       "      <td>0</td>\n",
       "      <td>...</td>\n",
       "      <td>0</td>\n",
       "      <td>0</td>\n",
       "      <td>1</td>\n",
       "      <td>0</td>\n",
       "      <td>0</td>\n",
       "      <td>0</td>\n",
       "      <td>1</td>\n",
       "      <td>1</td>\n",
       "      <td>0</td>\n",
       "      <td>55</td>\n",
       "    </tr>\n",
       "    <tr>\n",
       "      <th>1</th>\n",
       "      <td>0</td>\n",
       "      <td>29</td>\n",
       "      <td>1</td>\n",
       "      <td>1</td>\n",
       "      <td>5</td>\n",
       "      <td>151</td>\n",
       "      <td>1</td>\n",
       "      <td>0</td>\n",
       "      <td>0</td>\n",
       "      <td>0</td>\n",
       "      <td>...</td>\n",
       "      <td>0</td>\n",
       "      <td>1</td>\n",
       "      <td>0</td>\n",
       "      <td>0</td>\n",
       "      <td>0</td>\n",
       "      <td>0</td>\n",
       "      <td>1</td>\n",
       "      <td>1</td>\n",
       "      <td>0</td>\n",
       "      <td>45</td>\n",
       "    </tr>\n",
       "    <tr>\n",
       "      <th>2</th>\n",
       "      <td>0</td>\n",
       "      <td>2</td>\n",
       "      <td>1</td>\n",
       "      <td>0</td>\n",
       "      <td>5</td>\n",
       "      <td>76</td>\n",
       "      <td>1</td>\n",
       "      <td>0</td>\n",
       "      <td>0</td>\n",
       "      <td>0</td>\n",
       "      <td>...</td>\n",
       "      <td>0</td>\n",
       "      <td>1</td>\n",
       "      <td>0</td>\n",
       "      <td>0</td>\n",
       "      <td>0</td>\n",
       "      <td>0</td>\n",
       "      <td>1</td>\n",
       "      <td>1</td>\n",
       "      <td>0</td>\n",
       "      <td>35</td>\n",
       "    </tr>\n",
       "    <tr>\n",
       "      <th>3</th>\n",
       "      <td>0</td>\n",
       "      <td>1506</td>\n",
       "      <td>1</td>\n",
       "      <td>1</td>\n",
       "      <td>5</td>\n",
       "      <td>92</td>\n",
       "      <td>1</td>\n",
       "      <td>0</td>\n",
       "      <td>0</td>\n",
       "      <td>1</td>\n",
       "      <td>...</td>\n",
       "      <td>0</td>\n",
       "      <td>0</td>\n",
       "      <td>0</td>\n",
       "      <td>1</td>\n",
       "      <td>0</td>\n",
       "      <td>0</td>\n",
       "      <td>1</td>\n",
       "      <td>1</td>\n",
       "      <td>0</td>\n",
       "      <td>45</td>\n",
       "    </tr>\n",
       "    <tr>\n",
       "      <th>4</th>\n",
       "      <td>0</td>\n",
       "      <td>1</td>\n",
       "      <td>0</td>\n",
       "      <td>1</td>\n",
       "      <td>5</td>\n",
       "      <td>198</td>\n",
       "      <td>1</td>\n",
       "      <td>0</td>\n",
       "      <td>0</td>\n",
       "      <td>0</td>\n",
       "      <td>...</td>\n",
       "      <td>0</td>\n",
       "      <td>0</td>\n",
       "      <td>0</td>\n",
       "      <td>1</td>\n",
       "      <td>0</td>\n",
       "      <td>0</td>\n",
       "      <td>1</td>\n",
       "      <td>1</td>\n",
       "      <td>0</td>\n",
       "      <td>35</td>\n",
       "    </tr>\n",
       "    <tr>\n",
       "      <th>...</th>\n",
       "      <td>...</td>\n",
       "      <td>...</td>\n",
       "      <td>...</td>\n",
       "      <td>...</td>\n",
       "      <td>...</td>\n",
       "      <td>...</td>\n",
       "      <td>...</td>\n",
       "      <td>...</td>\n",
       "      <td>...</td>\n",
       "      <td>...</td>\n",
       "      <td>...</td>\n",
       "      <td>...</td>\n",
       "      <td>...</td>\n",
       "      <td>...</td>\n",
       "      <td>...</td>\n",
       "      <td>...</td>\n",
       "      <td>...</td>\n",
       "      <td>...</td>\n",
       "      <td>...</td>\n",
       "      <td>...</td>\n",
       "      <td>...</td>\n",
       "    </tr>\n",
       "    <tr>\n",
       "      <th>39995</th>\n",
       "      <td>0</td>\n",
       "      <td>395</td>\n",
       "      <td>0</td>\n",
       "      <td>1</td>\n",
       "      <td>3</td>\n",
       "      <td>107</td>\n",
       "      <td>1</td>\n",
       "      <td>0</td>\n",
       "      <td>0</td>\n",
       "      <td>0</td>\n",
       "      <td>...</td>\n",
       "      <td>0</td>\n",
       "      <td>0</td>\n",
       "      <td>1</td>\n",
       "      <td>0</td>\n",
       "      <td>1</td>\n",
       "      <td>0</td>\n",
       "      <td>0</td>\n",
       "      <td>1</td>\n",
       "      <td>0</td>\n",
       "      <td>55</td>\n",
       "    </tr>\n",
       "    <tr>\n",
       "      <th>39996</th>\n",
       "      <td>0</td>\n",
       "      <td>3340</td>\n",
       "      <td>0</td>\n",
       "      <td>1</td>\n",
       "      <td>3</td>\n",
       "      <td>238</td>\n",
       "      <td>3</td>\n",
       "      <td>1</td>\n",
       "      <td>0</td>\n",
       "      <td>0</td>\n",
       "      <td>...</td>\n",
       "      <td>0</td>\n",
       "      <td>0</td>\n",
       "      <td>1</td>\n",
       "      <td>0</td>\n",
       "      <td>1</td>\n",
       "      <td>0</td>\n",
       "      <td>0</td>\n",
       "      <td>1</td>\n",
       "      <td>0</td>\n",
       "      <td>25</td>\n",
       "    </tr>\n",
       "    <tr>\n",
       "      <th>39997</th>\n",
       "      <td>0</td>\n",
       "      <td>200</td>\n",
       "      <td>0</td>\n",
       "      <td>1</td>\n",
       "      <td>3</td>\n",
       "      <td>170</td>\n",
       "      <td>1</td>\n",
       "      <td>1</td>\n",
       "      <td>1</td>\n",
       "      <td>0</td>\n",
       "      <td>...</td>\n",
       "      <td>0</td>\n",
       "      <td>1</td>\n",
       "      <td>0</td>\n",
       "      <td>0</td>\n",
       "      <td>1</td>\n",
       "      <td>0</td>\n",
       "      <td>0</td>\n",
       "      <td>1</td>\n",
       "      <td>0</td>\n",
       "      <td>55</td>\n",
       "    </tr>\n",
       "    <tr>\n",
       "      <th>39998</th>\n",
       "      <td>0</td>\n",
       "      <td>1047</td>\n",
       "      <td>0</td>\n",
       "      <td>1</td>\n",
       "      <td>3</td>\n",
       "      <td>342</td>\n",
       "      <td>1</td>\n",
       "      <td>0</td>\n",
       "      <td>0</td>\n",
       "      <td>0</td>\n",
       "      <td>...</td>\n",
       "      <td>0</td>\n",
       "      <td>0</td>\n",
       "      <td>1</td>\n",
       "      <td>0</td>\n",
       "      <td>1</td>\n",
       "      <td>0</td>\n",
       "      <td>0</td>\n",
       "      <td>1</td>\n",
       "      <td>0</td>\n",
       "      <td>35</td>\n",
       "    </tr>\n",
       "    <tr>\n",
       "      <th>39999</th>\n",
       "      <td>0</td>\n",
       "      <td>1442</td>\n",
       "      <td>1</td>\n",
       "      <td>1</td>\n",
       "      <td>3</td>\n",
       "      <td>113</td>\n",
       "      <td>1</td>\n",
       "      <td>0</td>\n",
       "      <td>0</td>\n",
       "      <td>0</td>\n",
       "      <td>...</td>\n",
       "      <td>0</td>\n",
       "      <td>1</td>\n",
       "      <td>0</td>\n",
       "      <td>0</td>\n",
       "      <td>1</td>\n",
       "      <td>0</td>\n",
       "      <td>0</td>\n",
       "      <td>1</td>\n",
       "      <td>0</td>\n",
       "      <td>35</td>\n",
       "    </tr>\n",
       "  </tbody>\n",
       "</table>\n",
       "<p>40000 rows × 33 columns</p>\n",
       "</div>"
      ],
      "text/plain": [
       "       default  balance  housing  loan  day  duration  campaign  y  job_admin  \\\n",
       "0            0     2143        1     1    5       261         1  0          0   \n",
       "1            0       29        1     1    5       151         1  0          0   \n",
       "2            0        2        1     0    5        76         1  0          0   \n",
       "3            0     1506        1     1    5        92         1  0          0   \n",
       "4            0        1        0     1    5       198         1  0          0   \n",
       "...        ...      ...      ...   ...  ...       ...       ... ..        ...   \n",
       "39995        0      395        0     1    3       107         1  0          0   \n",
       "39996        0     3340        0     1    3       238         3  1          0   \n",
       "39997        0      200        0     1    3       170         1  1          1   \n",
       "39998        0     1047        0     1    3       342         1  0          0   \n",
       "39999        0     1442        1     1    3       113         1  0          0   \n",
       "\n",
       "       job_blue-collar  ...  education_primary  education_secondary  \\\n",
       "0                    0  ...                  0                    0   \n",
       "1                    0  ...                  0                    1   \n",
       "2                    0  ...                  0                    1   \n",
       "3                    1  ...                  0                    0   \n",
       "4                    0  ...                  0                    0   \n",
       "...                ...  ...                ...                  ...   \n",
       "39995                0  ...                  0                    0   \n",
       "39996                0  ...                  0                    0   \n",
       "39997                0  ...                  0                    1   \n",
       "39998                0  ...                  0                    0   \n",
       "39999                0  ...                  0                    1   \n",
       "\n",
       "       education_tertiary  education_unknown  contact_cellular  \\\n",
       "0                       1                  0                 0   \n",
       "1                       0                  0                 0   \n",
       "2                       0                  0                 0   \n",
       "3                       0                  1                 0   \n",
       "4                       0                  1                 0   \n",
       "...                   ...                ...               ...   \n",
       "39995                   1                  0                 1   \n",
       "39996                   1                  0                 1   \n",
       "39997                   0                  0                 1   \n",
       "39998                   1                  0                 1   \n",
       "39999                   0                  0                 1   \n",
       "\n",
       "       contact_telephone  contact_unknown  month_firstHalf  month_secondHalf  \\\n",
       "0                      0                1                1                 0   \n",
       "1                      0                1                1                 0   \n",
       "2                      0                1                1                 0   \n",
       "3                      0                1                1                 0   \n",
       "4                      0                1                1                 0   \n",
       "...                  ...              ...              ...               ...   \n",
       "39995                  0                0                1                 0   \n",
       "39996                  0                0                1                 0   \n",
       "39997                  0                0                1                 0   \n",
       "39998                  0                0                1                 0   \n",
       "39999                  0                0                1                 0   \n",
       "\n",
       "       age_range  \n",
       "0             55  \n",
       "1             45  \n",
       "2             35  \n",
       "3             45  \n",
       "4             35  \n",
       "...          ...  \n",
       "39995         55  \n",
       "39996         25  \n",
       "39997         55  \n",
       "39998         35  \n",
       "39999         35  \n",
       "\n",
       "[40000 rows x 33 columns]"
      ]
     },
     "execution_count": 75,
     "metadata": {},
     "output_type": "execute_result"
    }
   ],
   "source": [
    "df"
   ]
  },
  {
   "cell_type": "code",
   "execution_count": 76,
   "id": "d178456f",
   "metadata": {},
   "outputs": [
    {
     "data": {
      "text/html": [
       "<div>\n",
       "<style scoped>\n",
       "    .dataframe tbody tr th:only-of-type {\n",
       "        vertical-align: middle;\n",
       "    }\n",
       "\n",
       "    .dataframe tbody tr th {\n",
       "        vertical-align: top;\n",
       "    }\n",
       "\n",
       "    .dataframe thead th {\n",
       "        text-align: right;\n",
       "    }\n",
       "</style>\n",
       "<table border=\"1\" class=\"dataframe\">\n",
       "  <thead>\n",
       "    <tr style=\"text-align: right;\">\n",
       "      <th></th>\n",
       "      <th>default</th>\n",
       "      <th>balance</th>\n",
       "      <th>housing</th>\n",
       "      <th>loan</th>\n",
       "      <th>day</th>\n",
       "      <th>duration</th>\n",
       "      <th>campaign</th>\n",
       "      <th>y</th>\n",
       "      <th>job_admin</th>\n",
       "      <th>job_blue-collar</th>\n",
       "      <th>...</th>\n",
       "      <th>education_primary</th>\n",
       "      <th>education_secondary</th>\n",
       "      <th>education_tertiary</th>\n",
       "      <th>education_unknown</th>\n",
       "      <th>contact_cellular</th>\n",
       "      <th>contact_telephone</th>\n",
       "      <th>contact_unknown</th>\n",
       "      <th>month_firstHalf</th>\n",
       "      <th>month_secondHalf</th>\n",
       "      <th>age_range</th>\n",
       "    </tr>\n",
       "  </thead>\n",
       "  <tbody>\n",
       "    <tr>\n",
       "      <th>default</th>\n",
       "      <td>1.000000</td>\n",
       "      <td>-0.070069</td>\n",
       "      <td>-0.019229</td>\n",
       "      <td>-0.075006</td>\n",
       "      <td>0.006287</td>\n",
       "      <td>-0.008597</td>\n",
       "      <td>0.012135</td>\n",
       "      <td>-0.006559</td>\n",
       "      <td>-0.009384</td>\n",
       "      <td>0.004706</td>\n",
       "      <td>...</td>\n",
       "      <td>-0.000885</td>\n",
       "      <td>0.011528</td>\n",
       "      <td>-0.012513</td>\n",
       "      <td>0.000959</td>\n",
       "      <td>-0.002889</td>\n",
       "      <td>-0.015149</td>\n",
       "      <td>0.010602</td>\n",
       "      <td>0.006894</td>\n",
       "      <td>-0.006894</td>\n",
       "      <td>-0.014127</td>\n",
       "    </tr>\n",
       "    <tr>\n",
       "      <th>balance</th>\n",
       "      <td>-0.070069</td>\n",
       "      <td>1.000000</td>\n",
       "      <td>-0.049946</td>\n",
       "      <td>0.080596</td>\n",
       "      <td>0.011662</td>\n",
       "      <td>0.014072</td>\n",
       "      <td>-0.008137</td>\n",
       "      <td>0.030232</td>\n",
       "      <td>-0.024774</td>\n",
       "      <td>-0.041461</td>\n",
       "      <td>...</td>\n",
       "      <td>-0.020949</td>\n",
       "      <td>-0.063920</td>\n",
       "      <td>0.083069</td>\n",
       "      <td>0.011639</td>\n",
       "      <td>0.004086</td>\n",
       "      <td>0.029116</td>\n",
       "      <td>-0.018851</td>\n",
       "      <td>-0.092019</td>\n",
       "      <td>0.092019</td>\n",
       "      <td>0.078196</td>\n",
       "    </tr>\n",
       "    <tr>\n",
       "      <th>housing</th>\n",
       "      <td>-0.019229</td>\n",
       "      <td>-0.049946</td>\n",
       "      <td>1.000000</td>\n",
       "      <td>-0.004266</td>\n",
       "      <td>-0.050622</td>\n",
       "      <td>0.022455</td>\n",
       "      <td>-0.054823</td>\n",
       "      <td>-0.054336</td>\n",
       "      <td>0.039440</td>\n",
       "      <td>0.156122</td>\n",
       "      <td>...</td>\n",
       "      <td>0.011533</td>\n",
       "      <td>0.093628</td>\n",
       "      <td>-0.098019</td>\n",
       "      <td>-0.036128</td>\n",
       "      <td>-0.141946</td>\n",
       "      <td>-0.059696</td>\n",
       "      <td>0.177530</td>\n",
       "      <td>0.088951</td>\n",
       "      <td>-0.088951</td>\n",
       "      <td>-0.167326</td>\n",
       "    </tr>\n",
       "    <tr>\n",
       "      <th>loan</th>\n",
       "      <td>-0.075006</td>\n",
       "      <td>0.080596</td>\n",
       "      <td>-0.004266</td>\n",
       "      <td>1.000000</td>\n",
       "      <td>-0.005838</td>\n",
       "      <td>0.003952</td>\n",
       "      <td>-0.000582</td>\n",
       "      <td>0.031029</td>\n",
       "      <td>-0.025195</td>\n",
       "      <td>-0.005674</td>\n",
       "      <td>...</td>\n",
       "      <td>0.012951</td>\n",
       "      <td>-0.065472</td>\n",
       "      <td>0.041987</td>\n",
       "      <td>0.047598</td>\n",
       "      <td>-0.029800</td>\n",
       "      <td>0.001727</td>\n",
       "      <td>0.030119</td>\n",
       "      <td>0.003112</td>\n",
       "      <td>-0.003112</td>\n",
       "      <td>0.001987</td>\n",
       "    </tr>\n",
       "    <tr>\n",
       "      <th>day</th>\n",
       "      <td>0.006287</td>\n",
       "      <td>0.011662</td>\n",
       "      <td>-0.050622</td>\n",
       "      <td>-0.005838</td>\n",
       "      <td>1.000000</td>\n",
       "      <td>-0.032983</td>\n",
       "      <td>0.165429</td>\n",
       "      <td>-0.006420</td>\n",
       "      <td>-0.008858</td>\n",
       "      <td>-0.035006</td>\n",
       "      <td>...</td>\n",
       "      <td>-0.029240</td>\n",
       "      <td>-0.010139</td>\n",
       "      <td>0.033773</td>\n",
       "      <td>0.002749</td>\n",
       "      <td>0.034320</td>\n",
       "      <td>0.037242</td>\n",
       "      <td>-0.054363</td>\n",
       "      <td>-0.013077</td>\n",
       "      <td>0.013077</td>\n",
       "      <td>-0.006290</td>\n",
       "    </tr>\n",
       "    <tr>\n",
       "      <th>duration</th>\n",
       "      <td>-0.008597</td>\n",
       "      <td>0.014072</td>\n",
       "      <td>0.022455</td>\n",
       "      <td>0.003952</td>\n",
       "      <td>-0.032983</td>\n",
       "      <td>1.000000</td>\n",
       "      <td>-0.088387</td>\n",
       "      <td>0.461169</td>\n",
       "      <td>-0.008152</td>\n",
       "      <td>0.015951</td>\n",
       "      <td>...</td>\n",
       "      <td>-0.007313</td>\n",
       "      <td>0.006765</td>\n",
       "      <td>-0.000303</td>\n",
       "      <td>-0.003043</td>\n",
       "      <td>0.017624</td>\n",
       "      <td>-0.040379</td>\n",
       "      <td>0.001928</td>\n",
       "      <td>0.008414</td>\n",
       "      <td>-0.008414</td>\n",
       "      <td>-0.038451</td>\n",
       "    </tr>\n",
       "    <tr>\n",
       "      <th>campaign</th>\n",
       "      <td>0.012135</td>\n",
       "      <td>-0.008137</td>\n",
       "      <td>-0.054823</td>\n",
       "      <td>-0.000582</td>\n",
       "      <td>0.165429</td>\n",
       "      <td>-0.088387</td>\n",
       "      <td>1.000000</td>\n",
       "      <td>-0.040350</td>\n",
       "      <td>-0.020156</td>\n",
       "      <td>-0.004635</td>\n",
       "      <td>...</td>\n",
       "      <td>0.004326</td>\n",
       "      <td>-0.027133</td>\n",
       "      <td>0.022487</td>\n",
       "      <td>0.009791</td>\n",
       "      <td>-0.017733</td>\n",
       "      <td>0.061620</td>\n",
       "      <td>-0.012468</td>\n",
       "      <td>0.122324</td>\n",
       "      <td>-0.122324</td>\n",
       "      <td>0.017497</td>\n",
       "    </tr>\n",
       "    <tr>\n",
       "      <th>y</th>\n",
       "      <td>-0.006559</td>\n",
       "      <td>0.030232</td>\n",
       "      <td>-0.054336</td>\n",
       "      <td>0.031029</td>\n",
       "      <td>-0.006420</td>\n",
       "      <td>0.461169</td>\n",
       "      <td>-0.040350</td>\n",
       "      <td>1.000000</td>\n",
       "      <td>0.008083</td>\n",
       "      <td>-0.032859</td>\n",
       "      <td>...</td>\n",
       "      <td>-0.026786</td>\n",
       "      <td>-0.019683</td>\n",
       "      <td>0.046763</td>\n",
       "      <td>-0.007464</td>\n",
       "      <td>0.085433</td>\n",
       "      <td>-0.000842</td>\n",
       "      <td>-0.088408</td>\n",
       "      <td>-0.037404</td>\n",
       "      <td>0.037404</td>\n",
       "      <td>-0.021331</td>\n",
       "    </tr>\n",
       "    <tr>\n",
       "      <th>job_admin</th>\n",
       "      <td>-0.009384</td>\n",
       "      <td>-0.024774</td>\n",
       "      <td>0.039440</td>\n",
       "      <td>-0.025195</td>\n",
       "      <td>-0.008858</td>\n",
       "      <td>-0.008152</td>\n",
       "      <td>-0.020156</td>\n",
       "      <td>0.008083</td>\n",
       "      <td>1.000000</td>\n",
       "      <td>-0.196678</td>\n",
       "      <td>...</td>\n",
       "      <td>-0.109145</td>\n",
       "      <td>0.217446</td>\n",
       "      <td>-0.149282</td>\n",
       "      <td>-0.009743</td>\n",
       "      <td>-0.009522</td>\n",
       "      <td>-0.001399</td>\n",
       "      <td>0.010602</td>\n",
       "      <td>-0.003117</td>\n",
       "      <td>0.003117</td>\n",
       "      <td>-0.047703</td>\n",
       "    </tr>\n",
       "    <tr>\n",
       "      <th>job_blue-collar</th>\n",
       "      <td>0.004706</td>\n",
       "      <td>-0.041461</td>\n",
       "      <td>0.156122</td>\n",
       "      <td>-0.005674</td>\n",
       "      <td>-0.035006</td>\n",
       "      <td>0.015951</td>\n",
       "      <td>-0.004635</td>\n",
       "      <td>-0.032859</td>\n",
       "      <td>-0.196678</td>\n",
       "      <td>1.000000</td>\n",
       "      <td>...</td>\n",
       "      <td>0.357376</td>\n",
       "      <td>0.025941</td>\n",
       "      <td>-0.328668</td>\n",
       "      <td>0.024560</td>\n",
       "      <td>-0.115425</td>\n",
       "      <td>0.006448</td>\n",
       "      <td>0.116781</td>\n",
       "      <td>0.088757</td>\n",
       "      <td>-0.088757</td>\n",
       "      <td>-0.026442</td>\n",
       "    </tr>\n",
       "    <tr>\n",
       "      <th>job_entrepreneur</th>\n",
       "      <td>0.025645</td>\n",
       "      <td>0.011692</td>\n",
       "      <td>0.003303</td>\n",
       "      <td>-0.038244</td>\n",
       "      <td>-0.003629</td>\n",
       "      <td>0.000247</td>\n",
       "      <td>-0.002619</td>\n",
       "      <td>-0.007191</td>\n",
       "      <td>-0.067786</td>\n",
       "      <td>-0.105624</td>\n",
       "      <td>...</td>\n",
       "      <td>-0.016522</td>\n",
       "      <td>-0.062648</td>\n",
       "      <td>0.076927</td>\n",
       "      <td>0.014314</td>\n",
       "      <td>0.005294</td>\n",
       "      <td>-0.006114</td>\n",
       "      <td>-0.002439</td>\n",
       "      <td>-0.036101</td>\n",
       "      <td>0.036101</td>\n",
       "      <td>0.028463</td>\n",
       "    </tr>\n",
       "    <tr>\n",
       "      <th>job_housemaid</th>\n",
       "      <td>0.000017</td>\n",
       "      <td>0.003044</td>\n",
       "      <td>-0.086038</td>\n",
       "      <td>0.016788</td>\n",
       "      <td>0.005355</td>\n",
       "      <td>-0.007239</td>\n",
       "      <td>0.002804</td>\n",
       "      <td>-0.015248</td>\n",
       "      <td>-0.059379</td>\n",
       "      <td>-0.092525</td>\n",
       "      <td>...</td>\n",
       "      <td>0.162660</td>\n",
       "      <td>-0.069426</td>\n",
       "      <td>-0.053934</td>\n",
       "      <td>-0.001286</td>\n",
       "      <td>-0.014605</td>\n",
       "      <td>0.037439</td>\n",
       "      <td>-0.003592</td>\n",
       "      <td>0.022018</td>\n",
       "      <td>-0.022018</td>\n",
       "      <td>0.082108</td>\n",
       "    </tr>\n",
       "    <tr>\n",
       "      <th>job_management</th>\n",
       "      <td>-0.000951</td>\n",
       "      <td>0.072172</td>\n",
       "      <td>-0.067999</td>\n",
       "      <td>0.037817</td>\n",
       "      <td>0.026526</td>\n",
       "      <td>-0.010846</td>\n",
       "      <td>0.021105</td>\n",
       "      <td>0.020291</td>\n",
       "      <td>-0.179939</td>\n",
       "      <td>-0.280381</td>\n",
       "      <td>...</td>\n",
       "      <td>-0.171793</td>\n",
       "      <td>-0.403486</td>\n",
       "      <td>0.604836</td>\n",
       "      <td>-0.039941</td>\n",
       "      <td>0.096847</td>\n",
       "      <td>-0.019587</td>\n",
       "      <td>-0.090874</td>\n",
       "      <td>-0.051218</td>\n",
       "      <td>0.051218</td>\n",
       "      <td>-0.001031</td>\n",
       "    </tr>\n",
       "    <tr>\n",
       "      <th>job_retired</th>\n",
       "      <td>-0.003878</td>\n",
       "      <td>0.015917</td>\n",
       "      <td>-0.112274</td>\n",
       "      <td>-0.017406</td>\n",
       "      <td>-0.002787</td>\n",
       "      <td>0.001675</td>\n",
       "      <td>-0.013881</td>\n",
       "      <td>0.024343</td>\n",
       "      <td>-0.068582</td>\n",
       "      <td>-0.106864</td>\n",
       "      <td>...</td>\n",
       "      <td>0.095975</td>\n",
       "      <td>-0.024257</td>\n",
       "      <td>-0.051923</td>\n",
       "      <td>0.002800</td>\n",
       "      <td>-0.029112</td>\n",
       "      <td>0.044599</td>\n",
       "      <td>0.007901</td>\n",
       "      <td>0.005391</td>\n",
       "      <td>-0.005391</td>\n",
       "      <td>0.303021</td>\n",
       "    </tr>\n",
       "    <tr>\n",
       "      <th>job_self-employed</th>\n",
       "      <td>0.004233</td>\n",
       "      <td>0.015771</td>\n",
       "      <td>-0.032204</td>\n",
       "      <td>0.008934</td>\n",
       "      <td>0.005080</td>\n",
       "      <td>0.008821</td>\n",
       "      <td>0.004581</td>\n",
       "      <td>0.005029</td>\n",
       "      <td>-0.068011</td>\n",
       "      <td>-0.105974</td>\n",
       "      <td>...</td>\n",
       "      <td>-0.034498</td>\n",
       "      <td>-0.051536</td>\n",
       "      <td>0.092210</td>\n",
       "      <td>-0.016315</td>\n",
       "      <td>0.016841</td>\n",
       "      <td>0.002289</td>\n",
       "      <td>-0.018658</td>\n",
       "      <td>-0.039587</td>\n",
       "      <td>0.039587</td>\n",
       "      <td>0.002496</td>\n",
       "    </tr>\n",
       "    <tr>\n",
       "      <th>job_services</th>\n",
       "      <td>-0.003038</td>\n",
       "      <td>-0.033618</td>\n",
       "      <td>0.062391</td>\n",
       "      <td>-0.031939</td>\n",
       "      <td>-0.009461</td>\n",
       "      <td>0.003569</td>\n",
       "      <td>-0.010404</td>\n",
       "      <td>-0.014645</td>\n",
       "      <td>-0.116939</td>\n",
       "      <td>-0.182215</td>\n",
       "      <td>...</td>\n",
       "      <td>-0.064113</td>\n",
       "      <td>0.205140</td>\n",
       "      <td>-0.173470</td>\n",
       "      <td>-0.006430</td>\n",
       "      <td>-0.022813</td>\n",
       "      <td>-0.006797</td>\n",
       "      <td>0.027129</td>\n",
       "      <td>0.022176</td>\n",
       "      <td>-0.022176</td>\n",
       "      <td>-0.057119</td>\n",
       "    </tr>\n",
       "    <tr>\n",
       "      <th>job_student</th>\n",
       "      <td>-0.013429</td>\n",
       "      <td>0.000575</td>\n",
       "      <td>-0.034034</td>\n",
       "      <td>0.047512</td>\n",
       "      <td>-0.011183</td>\n",
       "      <td>-0.007175</td>\n",
       "      <td>-0.008503</td>\n",
       "      <td>0.037384</td>\n",
       "      <td>-0.040932</td>\n",
       "      <td>-0.063781</td>\n",
       "      <td>...</td>\n",
       "      <td>-0.038788</td>\n",
       "      <td>0.003078</td>\n",
       "      <td>0.001567</td>\n",
       "      <td>0.061820</td>\n",
       "      <td>0.011172</td>\n",
       "      <td>0.024071</td>\n",
       "      <td>-0.023689</td>\n",
       "      <td>-0.020806</td>\n",
       "      <td>0.020806</td>\n",
       "      <td>-0.154971</td>\n",
       "    </tr>\n",
       "    <tr>\n",
       "      <th>job_technician</th>\n",
       "      <td>-0.004516</td>\n",
       "      <td>-0.012655</td>\n",
       "      <td>-0.032180</td>\n",
       "      <td>-0.008396</td>\n",
       "      <td>0.031902</td>\n",
       "      <td>-0.008469</td>\n",
       "      <td>0.018915</td>\n",
       "      <td>0.000234</td>\n",
       "      <td>-0.161527</td>\n",
       "      <td>-0.251692</td>\n",
       "      <td>...</td>\n",
       "      <td>-0.169011</td>\n",
       "      <td>0.158368</td>\n",
       "      <td>-0.032150</td>\n",
       "      <td>-0.016691</td>\n",
       "      <td>0.060406</td>\n",
       "      <td>-0.033089</td>\n",
       "      <td>-0.046212</td>\n",
       "      <td>0.010108</td>\n",
       "      <td>-0.010108</td>\n",
       "      <td>-0.049481</td>\n",
       "    </tr>\n",
       "    <tr>\n",
       "      <th>job_unemployed</th>\n",
       "      <td>0.007232</td>\n",
       "      <td>0.010020</td>\n",
       "      <td>-0.046197</td>\n",
       "      <td>0.035591</td>\n",
       "      <td>-0.005475</td>\n",
       "      <td>0.017896</td>\n",
       "      <td>-0.017052</td>\n",
       "      <td>0.009463</td>\n",
       "      <td>-0.059855</td>\n",
       "      <td>-0.093266</td>\n",
       "      <td>...</td>\n",
       "      <td>0.023903</td>\n",
       "      <td>0.013016</td>\n",
       "      <td>-0.027622</td>\n",
       "      <td>-0.014520</td>\n",
       "      <td>0.011138</td>\n",
       "      <td>0.013668</td>\n",
       "      <td>-0.018436</td>\n",
       "      <td>-0.092719</td>\n",
       "      <td>0.092719</td>\n",
       "      <td>0.007823</td>\n",
       "    </tr>\n",
       "    <tr>\n",
       "      <th>job_unknown</th>\n",
       "      <td>-0.006397</td>\n",
       "      <td>0.010672</td>\n",
       "      <td>-0.077605</td>\n",
       "      <td>0.031734</td>\n",
       "      <td>-0.009526</td>\n",
       "      <td>-0.007971</td>\n",
       "      <td>0.017037</td>\n",
       "      <td>-0.000018</td>\n",
       "      <td>-0.027312</td>\n",
       "      <td>-0.042557</td>\n",
       "      <td>...</td>\n",
       "      <td>0.007346</td>\n",
       "      <td>-0.041488</td>\n",
       "      <td>-0.029018</td>\n",
       "      <td>0.161987</td>\n",
       "      <td>-0.032647</td>\n",
       "      <td>0.018699</td>\n",
       "      <td>0.024566</td>\n",
       "      <td>0.007236</td>\n",
       "      <td>-0.007236</td>\n",
       "      <td>0.041471</td>\n",
       "    </tr>\n",
       "    <tr>\n",
       "      <th>marital_divorced</th>\n",
       "      <td>0.016748</td>\n",
       "      <td>-0.025910</td>\n",
       "      <td>-0.004691</td>\n",
       "      <td>-0.015635</td>\n",
       "      <td>-0.004055</td>\n",
       "      <td>0.007237</td>\n",
       "      <td>-0.019951</td>\n",
       "      <td>0.014619</td>\n",
       "      <td>0.036940</td>\n",
       "      <td>-0.069165</td>\n",
       "      <td>...</td>\n",
       "      <td>-0.018886</td>\n",
       "      <td>0.020816</td>\n",
       "      <td>-0.001157</td>\n",
       "      <td>-0.015684</td>\n",
       "      <td>-0.000474</td>\n",
       "      <td>-0.023579</td>\n",
       "      <td>0.012319</td>\n",
       "      <td>-0.008846</td>\n",
       "      <td>0.008846</td>\n",
       "      <td>0.157814</td>\n",
       "    </tr>\n",
       "    <tr>\n",
       "      <th>marital_married</th>\n",
       "      <td>-0.016458</td>\n",
       "      <td>0.023683</td>\n",
       "      <td>0.000680</td>\n",
       "      <td>-0.032651</td>\n",
       "      <td>0.005243</td>\n",
       "      <td>-0.029153</td>\n",
       "      <td>0.027962</td>\n",
       "      <td>-0.056863</td>\n",
       "      <td>-0.064991</td>\n",
       "      <td>0.125618</td>\n",
       "      <td>...</td>\n",
       "      <td>0.142860</td>\n",
       "      <td>-0.024463</td>\n",
       "      <td>-0.095031</td>\n",
       "      <td>0.015392</td>\n",
       "      <td>-0.037623</td>\n",
       "      <td>0.046691</td>\n",
       "      <td>0.015701</td>\n",
       "      <td>0.032196</td>\n",
       "      <td>-0.032196</td>\n",
       "      <td>0.258370</td>\n",
       "    </tr>\n",
       "    <tr>\n",
       "      <th>marital_single</th>\n",
       "      <td>0.005893</td>\n",
       "      <td>-0.007168</td>\n",
       "      <td>0.002656</td>\n",
       "      <td>0.047122</td>\n",
       "      <td>-0.002806</td>\n",
       "      <td>0.026703</td>\n",
       "      <td>-0.016179</td>\n",
       "      <td>0.051721</td>\n",
       "      <td>0.044443</td>\n",
       "      <td>-0.087522</td>\n",
       "      <td>...</td>\n",
       "      <td>-0.142879</td>\n",
       "      <td>0.011717</td>\n",
       "      <td>0.104992</td>\n",
       "      <td>-0.005497</td>\n",
       "      <td>0.041578</td>\n",
       "      <td>-0.034075</td>\n",
       "      <td>-0.026141</td>\n",
       "      <td>-0.028872</td>\n",
       "      <td>0.028872</td>\n",
       "      <td>-0.397604</td>\n",
       "    </tr>\n",
       "    <tr>\n",
       "      <th>education_primary</th>\n",
       "      <td>-0.000885</td>\n",
       "      <td>-0.020949</td>\n",
       "      <td>0.011533</td>\n",
       "      <td>0.012951</td>\n",
       "      <td>-0.029240</td>\n",
       "      <td>-0.007313</td>\n",
       "      <td>0.004326</td>\n",
       "      <td>-0.026786</td>\n",
       "      <td>-0.109145</td>\n",
       "      <td>0.357376</td>\n",
       "      <td>...</td>\n",
       "      <td>1.000000</td>\n",
       "      <td>-0.453113</td>\n",
       "      <td>-0.268968</td>\n",
       "      <td>-0.086012</td>\n",
       "      <td>-0.102757</td>\n",
       "      <td>0.057408</td>\n",
       "      <td>0.078050</td>\n",
       "      <td>0.051519</td>\n",
       "      <td>-0.051519</td>\n",
       "      <td>0.166984</td>\n",
       "    </tr>\n",
       "    <tr>\n",
       "      <th>education_secondary</th>\n",
       "      <td>0.011528</td>\n",
       "      <td>-0.063920</td>\n",
       "      <td>0.093628</td>\n",
       "      <td>-0.065472</td>\n",
       "      <td>-0.010139</td>\n",
       "      <td>0.006765</td>\n",
       "      <td>-0.027133</td>\n",
       "      <td>-0.019683</td>\n",
       "      <td>0.217446</td>\n",
       "      <td>0.025941</td>\n",
       "      <td>...</td>\n",
       "      <td>-0.453113</td>\n",
       "      <td>1.000000</td>\n",
       "      <td>-0.655624</td>\n",
       "      <td>-0.209659</td>\n",
       "      <td>-0.021638</td>\n",
       "      <td>-0.018869</td>\n",
       "      <td>0.031962</td>\n",
       "      <td>0.025335</td>\n",
       "      <td>-0.025335</td>\n",
       "      <td>-0.093969</td>\n",
       "    </tr>\n",
       "    <tr>\n",
       "      <th>education_tertiary</th>\n",
       "      <td>-0.012513</td>\n",
       "      <td>0.083069</td>\n",
       "      <td>-0.098019</td>\n",
       "      <td>0.041987</td>\n",
       "      <td>0.033773</td>\n",
       "      <td>-0.000303</td>\n",
       "      <td>0.022487</td>\n",
       "      <td>0.046763</td>\n",
       "      <td>-0.149282</td>\n",
       "      <td>-0.328668</td>\n",
       "      <td>...</td>\n",
       "      <td>-0.268968</td>\n",
       "      <td>-0.655624</td>\n",
       "      <td>1.000000</td>\n",
       "      <td>-0.124453</td>\n",
       "      <td>0.131441</td>\n",
       "      <td>-0.033391</td>\n",
       "      <td>-0.119920</td>\n",
       "      <td>-0.073899</td>\n",
       "      <td>0.073899</td>\n",
       "      <td>-0.060802</td>\n",
       "    </tr>\n",
       "    <tr>\n",
       "      <th>education_unknown</th>\n",
       "      <td>0.000959</td>\n",
       "      <td>0.011639</td>\n",
       "      <td>-0.036128</td>\n",
       "      <td>0.047598</td>\n",
       "      <td>0.002749</td>\n",
       "      <td>-0.003043</td>\n",
       "      <td>0.009791</td>\n",
       "      <td>-0.007464</td>\n",
       "      <td>-0.009743</td>\n",
       "      <td>0.024560</td>\n",
       "      <td>...</td>\n",
       "      <td>-0.086012</td>\n",
       "      <td>-0.209659</td>\n",
       "      <td>-0.124453</td>\n",
       "      <td>1.000000</td>\n",
       "      <td>-0.056615</td>\n",
       "      <td>0.018484</td>\n",
       "      <td>0.049596</td>\n",
       "      <td>0.009399</td>\n",
       "      <td>-0.009399</td>\n",
       "      <td>0.070475</td>\n",
       "    </tr>\n",
       "    <tr>\n",
       "      <th>contact_cellular</th>\n",
       "      <td>-0.002889</td>\n",
       "      <td>0.004086</td>\n",
       "      <td>-0.141946</td>\n",
       "      <td>-0.029800</td>\n",
       "      <td>0.034320</td>\n",
       "      <td>0.017624</td>\n",
       "      <td>-0.017733</td>\n",
       "      <td>0.085433</td>\n",
       "      <td>-0.009522</td>\n",
       "      <td>-0.115425</td>\n",
       "      <td>...</td>\n",
       "      <td>-0.102757</td>\n",
       "      <td>-0.021638</td>\n",
       "      <td>0.131441</td>\n",
       "      <td>-0.056615</td>\n",
       "      <td>1.000000</td>\n",
       "      <td>-0.318950</td>\n",
       "      <td>-0.879795</td>\n",
       "      <td>-0.261783</td>\n",
       "      <td>0.261783</td>\n",
       "      <td>-0.059381</td>\n",
       "    </tr>\n",
       "    <tr>\n",
       "      <th>contact_telephone</th>\n",
       "      <td>-0.015149</td>\n",
       "      <td>0.029116</td>\n",
       "      <td>-0.059696</td>\n",
       "      <td>0.001727</td>\n",
       "      <td>0.037242</td>\n",
       "      <td>-0.040379</td>\n",
       "      <td>0.061620</td>\n",
       "      <td>-0.000842</td>\n",
       "      <td>-0.001399</td>\n",
       "      <td>0.006448</td>\n",
       "      <td>...</td>\n",
       "      <td>0.057408</td>\n",
       "      <td>-0.018869</td>\n",
       "      <td>-0.033391</td>\n",
       "      <td>0.018484</td>\n",
       "      <td>-0.318950</td>\n",
       "      <td>1.000000</td>\n",
       "      <td>-0.169916</td>\n",
       "      <td>-0.087587</td>\n",
       "      <td>0.087587</td>\n",
       "      <td>0.114360</td>\n",
       "    </tr>\n",
       "    <tr>\n",
       "      <th>contact_unknown</th>\n",
       "      <td>0.010602</td>\n",
       "      <td>-0.018851</td>\n",
       "      <td>0.177530</td>\n",
       "      <td>0.030119</td>\n",
       "      <td>-0.054363</td>\n",
       "      <td>0.001928</td>\n",
       "      <td>-0.012468</td>\n",
       "      <td>-0.088408</td>\n",
       "      <td>0.010602</td>\n",
       "      <td>0.116781</td>\n",
       "      <td>...</td>\n",
       "      <td>0.078050</td>\n",
       "      <td>0.031962</td>\n",
       "      <td>-0.119920</td>\n",
       "      <td>0.049596</td>\n",
       "      <td>-0.879795</td>\n",
       "      <td>-0.169916</td>\n",
       "      <td>1.000000</td>\n",
       "      <td>0.316121</td>\n",
       "      <td>-0.316121</td>\n",
       "      <td>0.004385</td>\n",
       "    </tr>\n",
       "    <tr>\n",
       "      <th>month_firstHalf</th>\n",
       "      <td>0.006894</td>\n",
       "      <td>-0.092019</td>\n",
       "      <td>0.088951</td>\n",
       "      <td>0.003112</td>\n",
       "      <td>-0.013077</td>\n",
       "      <td>0.008414</td>\n",
       "      <td>0.122324</td>\n",
       "      <td>-0.037404</td>\n",
       "      <td>-0.003117</td>\n",
       "      <td>0.088757</td>\n",
       "      <td>...</td>\n",
       "      <td>0.051519</td>\n",
       "      <td>0.025335</td>\n",
       "      <td>-0.073899</td>\n",
       "      <td>0.009399</td>\n",
       "      <td>-0.261783</td>\n",
       "      <td>-0.087587</td>\n",
       "      <td>0.316121</td>\n",
       "      <td>1.000000</td>\n",
       "      <td>-1.000000</td>\n",
       "      <td>-0.020174</td>\n",
       "    </tr>\n",
       "    <tr>\n",
       "      <th>month_secondHalf</th>\n",
       "      <td>-0.006894</td>\n",
       "      <td>0.092019</td>\n",
       "      <td>-0.088951</td>\n",
       "      <td>-0.003112</td>\n",
       "      <td>0.013077</td>\n",
       "      <td>-0.008414</td>\n",
       "      <td>-0.122324</td>\n",
       "      <td>0.037404</td>\n",
       "      <td>0.003117</td>\n",
       "      <td>-0.088757</td>\n",
       "      <td>...</td>\n",
       "      <td>-0.051519</td>\n",
       "      <td>-0.025335</td>\n",
       "      <td>0.073899</td>\n",
       "      <td>-0.009399</td>\n",
       "      <td>0.261783</td>\n",
       "      <td>0.087587</td>\n",
       "      <td>-0.316121</td>\n",
       "      <td>-1.000000</td>\n",
       "      <td>1.000000</td>\n",
       "      <td>0.020174</td>\n",
       "    </tr>\n",
       "    <tr>\n",
       "      <th>age_range</th>\n",
       "      <td>-0.014127</td>\n",
       "      <td>0.078196</td>\n",
       "      <td>-0.167326</td>\n",
       "      <td>0.001987</td>\n",
       "      <td>-0.006290</td>\n",
       "      <td>-0.038451</td>\n",
       "      <td>0.017497</td>\n",
       "      <td>-0.021331</td>\n",
       "      <td>-0.047703</td>\n",
       "      <td>-0.026442</td>\n",
       "      <td>...</td>\n",
       "      <td>0.166984</td>\n",
       "      <td>-0.093969</td>\n",
       "      <td>-0.060802</td>\n",
       "      <td>0.070475</td>\n",
       "      <td>-0.059381</td>\n",
       "      <td>0.114360</td>\n",
       "      <td>0.004385</td>\n",
       "      <td>-0.020174</td>\n",
       "      <td>0.020174</td>\n",
       "      <td>1.000000</td>\n",
       "    </tr>\n",
       "  </tbody>\n",
       "</table>\n",
       "<p>33 rows × 33 columns</p>\n",
       "</div>"
      ],
      "text/plain": [
       "                      default   balance   housing      loan       day  \\\n",
       "default              1.000000 -0.070069 -0.019229 -0.075006  0.006287   \n",
       "balance             -0.070069  1.000000 -0.049946  0.080596  0.011662   \n",
       "housing             -0.019229 -0.049946  1.000000 -0.004266 -0.050622   \n",
       "loan                -0.075006  0.080596 -0.004266  1.000000 -0.005838   \n",
       "day                  0.006287  0.011662 -0.050622 -0.005838  1.000000   \n",
       "duration            -0.008597  0.014072  0.022455  0.003952 -0.032983   \n",
       "campaign             0.012135 -0.008137 -0.054823 -0.000582  0.165429   \n",
       "y                   -0.006559  0.030232 -0.054336  0.031029 -0.006420   \n",
       "job_admin           -0.009384 -0.024774  0.039440 -0.025195 -0.008858   \n",
       "job_blue-collar      0.004706 -0.041461  0.156122 -0.005674 -0.035006   \n",
       "job_entrepreneur     0.025645  0.011692  0.003303 -0.038244 -0.003629   \n",
       "job_housemaid        0.000017  0.003044 -0.086038  0.016788  0.005355   \n",
       "job_management      -0.000951  0.072172 -0.067999  0.037817  0.026526   \n",
       "job_retired         -0.003878  0.015917 -0.112274 -0.017406 -0.002787   \n",
       "job_self-employed    0.004233  0.015771 -0.032204  0.008934  0.005080   \n",
       "job_services        -0.003038 -0.033618  0.062391 -0.031939 -0.009461   \n",
       "job_student         -0.013429  0.000575 -0.034034  0.047512 -0.011183   \n",
       "job_technician      -0.004516 -0.012655 -0.032180 -0.008396  0.031902   \n",
       "job_unemployed       0.007232  0.010020 -0.046197  0.035591 -0.005475   \n",
       "job_unknown         -0.006397  0.010672 -0.077605  0.031734 -0.009526   \n",
       "marital_divorced     0.016748 -0.025910 -0.004691 -0.015635 -0.004055   \n",
       "marital_married     -0.016458  0.023683  0.000680 -0.032651  0.005243   \n",
       "marital_single       0.005893 -0.007168  0.002656  0.047122 -0.002806   \n",
       "education_primary   -0.000885 -0.020949  0.011533  0.012951 -0.029240   \n",
       "education_secondary  0.011528 -0.063920  0.093628 -0.065472 -0.010139   \n",
       "education_tertiary  -0.012513  0.083069 -0.098019  0.041987  0.033773   \n",
       "education_unknown    0.000959  0.011639 -0.036128  0.047598  0.002749   \n",
       "contact_cellular    -0.002889  0.004086 -0.141946 -0.029800  0.034320   \n",
       "contact_telephone   -0.015149  0.029116 -0.059696  0.001727  0.037242   \n",
       "contact_unknown      0.010602 -0.018851  0.177530  0.030119 -0.054363   \n",
       "month_firstHalf      0.006894 -0.092019  0.088951  0.003112 -0.013077   \n",
       "month_secondHalf    -0.006894  0.092019 -0.088951 -0.003112  0.013077   \n",
       "age_range           -0.014127  0.078196 -0.167326  0.001987 -0.006290   \n",
       "\n",
       "                     duration  campaign         y  job_admin  job_blue-collar  \\\n",
       "default             -0.008597  0.012135 -0.006559  -0.009384         0.004706   \n",
       "balance              0.014072 -0.008137  0.030232  -0.024774        -0.041461   \n",
       "housing              0.022455 -0.054823 -0.054336   0.039440         0.156122   \n",
       "loan                 0.003952 -0.000582  0.031029  -0.025195        -0.005674   \n",
       "day                 -0.032983  0.165429 -0.006420  -0.008858        -0.035006   \n",
       "duration             1.000000 -0.088387  0.461169  -0.008152         0.015951   \n",
       "campaign            -0.088387  1.000000 -0.040350  -0.020156        -0.004635   \n",
       "y                    0.461169 -0.040350  1.000000   0.008083        -0.032859   \n",
       "job_admin           -0.008152 -0.020156  0.008083   1.000000        -0.196678   \n",
       "job_blue-collar      0.015951 -0.004635 -0.032859  -0.196678         1.000000   \n",
       "job_entrepreneur     0.000247 -0.002619 -0.007191  -0.067786        -0.105624   \n",
       "job_housemaid       -0.007239  0.002804 -0.015248  -0.059379        -0.092525   \n",
       "job_management      -0.010846  0.021105  0.020291  -0.179939        -0.280381   \n",
       "job_retired          0.001675 -0.013881  0.024343  -0.068582        -0.106864   \n",
       "job_self-employed    0.008821  0.004581  0.005029  -0.068011        -0.105974   \n",
       "job_services         0.003569 -0.010404 -0.014645  -0.116939        -0.182215   \n",
       "job_student         -0.007175 -0.008503  0.037384  -0.040932        -0.063781   \n",
       "job_technician      -0.008469  0.018915  0.000234  -0.161527        -0.251692   \n",
       "job_unemployed       0.017896 -0.017052  0.009463  -0.059855        -0.093266   \n",
       "job_unknown         -0.007971  0.017037 -0.000018  -0.027312        -0.042557   \n",
       "marital_divorced     0.007237 -0.019951  0.014619   0.036940        -0.069165   \n",
       "marital_married     -0.029153  0.027962 -0.056863  -0.064991         0.125618   \n",
       "marital_single       0.026703 -0.016179  0.051721   0.044443        -0.087522   \n",
       "education_primary   -0.007313  0.004326 -0.026786  -0.109145         0.357376   \n",
       "education_secondary  0.006765 -0.027133 -0.019683   0.217446         0.025941   \n",
       "education_tertiary  -0.000303  0.022487  0.046763  -0.149282        -0.328668   \n",
       "education_unknown   -0.003043  0.009791 -0.007464  -0.009743         0.024560   \n",
       "contact_cellular     0.017624 -0.017733  0.085433  -0.009522        -0.115425   \n",
       "contact_telephone   -0.040379  0.061620 -0.000842  -0.001399         0.006448   \n",
       "contact_unknown      0.001928 -0.012468 -0.088408   0.010602         0.116781   \n",
       "month_firstHalf      0.008414  0.122324 -0.037404  -0.003117         0.088757   \n",
       "month_secondHalf    -0.008414 -0.122324  0.037404   0.003117        -0.088757   \n",
       "age_range           -0.038451  0.017497 -0.021331  -0.047703        -0.026442   \n",
       "\n",
       "                     ...  education_primary  education_secondary  \\\n",
       "default              ...          -0.000885             0.011528   \n",
       "balance              ...          -0.020949            -0.063920   \n",
       "housing              ...           0.011533             0.093628   \n",
       "loan                 ...           0.012951            -0.065472   \n",
       "day                  ...          -0.029240            -0.010139   \n",
       "duration             ...          -0.007313             0.006765   \n",
       "campaign             ...           0.004326            -0.027133   \n",
       "y                    ...          -0.026786            -0.019683   \n",
       "job_admin            ...          -0.109145             0.217446   \n",
       "job_blue-collar      ...           0.357376             0.025941   \n",
       "job_entrepreneur     ...          -0.016522            -0.062648   \n",
       "job_housemaid        ...           0.162660            -0.069426   \n",
       "job_management       ...          -0.171793            -0.403486   \n",
       "job_retired          ...           0.095975            -0.024257   \n",
       "job_self-employed    ...          -0.034498            -0.051536   \n",
       "job_services         ...          -0.064113             0.205140   \n",
       "job_student          ...          -0.038788             0.003078   \n",
       "job_technician       ...          -0.169011             0.158368   \n",
       "job_unemployed       ...           0.023903             0.013016   \n",
       "job_unknown          ...           0.007346            -0.041488   \n",
       "marital_divorced     ...          -0.018886             0.020816   \n",
       "marital_married      ...           0.142860            -0.024463   \n",
       "marital_single       ...          -0.142879             0.011717   \n",
       "education_primary    ...           1.000000            -0.453113   \n",
       "education_secondary  ...          -0.453113             1.000000   \n",
       "education_tertiary   ...          -0.268968            -0.655624   \n",
       "education_unknown    ...          -0.086012            -0.209659   \n",
       "contact_cellular     ...          -0.102757            -0.021638   \n",
       "contact_telephone    ...           0.057408            -0.018869   \n",
       "contact_unknown      ...           0.078050             0.031962   \n",
       "month_firstHalf      ...           0.051519             0.025335   \n",
       "month_secondHalf     ...          -0.051519            -0.025335   \n",
       "age_range            ...           0.166984            -0.093969   \n",
       "\n",
       "                     education_tertiary  education_unknown  contact_cellular  \\\n",
       "default                       -0.012513           0.000959         -0.002889   \n",
       "balance                        0.083069           0.011639          0.004086   \n",
       "housing                       -0.098019          -0.036128         -0.141946   \n",
       "loan                           0.041987           0.047598         -0.029800   \n",
       "day                            0.033773           0.002749          0.034320   \n",
       "duration                      -0.000303          -0.003043          0.017624   \n",
       "campaign                       0.022487           0.009791         -0.017733   \n",
       "y                              0.046763          -0.007464          0.085433   \n",
       "job_admin                     -0.149282          -0.009743         -0.009522   \n",
       "job_blue-collar               -0.328668           0.024560         -0.115425   \n",
       "job_entrepreneur               0.076927           0.014314          0.005294   \n",
       "job_housemaid                 -0.053934          -0.001286         -0.014605   \n",
       "job_management                 0.604836          -0.039941          0.096847   \n",
       "job_retired                   -0.051923           0.002800         -0.029112   \n",
       "job_self-employed              0.092210          -0.016315          0.016841   \n",
       "job_services                  -0.173470          -0.006430         -0.022813   \n",
       "job_student                    0.001567           0.061820          0.011172   \n",
       "job_technician                -0.032150          -0.016691          0.060406   \n",
       "job_unemployed                -0.027622          -0.014520          0.011138   \n",
       "job_unknown                   -0.029018           0.161987         -0.032647   \n",
       "marital_divorced              -0.001157          -0.015684         -0.000474   \n",
       "marital_married               -0.095031           0.015392         -0.037623   \n",
       "marital_single                 0.104992          -0.005497          0.041578   \n",
       "education_primary             -0.268968          -0.086012         -0.102757   \n",
       "education_secondary           -0.655624          -0.209659         -0.021638   \n",
       "education_tertiary             1.000000          -0.124453          0.131441   \n",
       "education_unknown             -0.124453           1.000000         -0.056615   \n",
       "contact_cellular               0.131441          -0.056615          1.000000   \n",
       "contact_telephone             -0.033391           0.018484         -0.318950   \n",
       "contact_unknown               -0.119920           0.049596         -0.879795   \n",
       "month_firstHalf               -0.073899           0.009399         -0.261783   \n",
       "month_secondHalf               0.073899          -0.009399          0.261783   \n",
       "age_range                     -0.060802           0.070475         -0.059381   \n",
       "\n",
       "                     contact_telephone  contact_unknown  month_firstHalf  \\\n",
       "default                      -0.015149         0.010602         0.006894   \n",
       "balance                       0.029116        -0.018851        -0.092019   \n",
       "housing                      -0.059696         0.177530         0.088951   \n",
       "loan                          0.001727         0.030119         0.003112   \n",
       "day                           0.037242        -0.054363        -0.013077   \n",
       "duration                     -0.040379         0.001928         0.008414   \n",
       "campaign                      0.061620        -0.012468         0.122324   \n",
       "y                            -0.000842        -0.088408        -0.037404   \n",
       "job_admin                    -0.001399         0.010602        -0.003117   \n",
       "job_blue-collar               0.006448         0.116781         0.088757   \n",
       "job_entrepreneur             -0.006114        -0.002439        -0.036101   \n",
       "job_housemaid                 0.037439        -0.003592         0.022018   \n",
       "job_management               -0.019587        -0.090874        -0.051218   \n",
       "job_retired                   0.044599         0.007901         0.005391   \n",
       "job_self-employed             0.002289        -0.018658        -0.039587   \n",
       "job_services                 -0.006797         0.027129         0.022176   \n",
       "job_student                   0.024071        -0.023689        -0.020806   \n",
       "job_technician               -0.033089        -0.046212         0.010108   \n",
       "job_unemployed                0.013668        -0.018436        -0.092719   \n",
       "job_unknown                   0.018699         0.024566         0.007236   \n",
       "marital_divorced             -0.023579         0.012319        -0.008846   \n",
       "marital_married               0.046691         0.015701         0.032196   \n",
       "marital_single               -0.034075        -0.026141        -0.028872   \n",
       "education_primary             0.057408         0.078050         0.051519   \n",
       "education_secondary          -0.018869         0.031962         0.025335   \n",
       "education_tertiary           -0.033391        -0.119920        -0.073899   \n",
       "education_unknown             0.018484         0.049596         0.009399   \n",
       "contact_cellular             -0.318950        -0.879795        -0.261783   \n",
       "contact_telephone             1.000000        -0.169916        -0.087587   \n",
       "contact_unknown              -0.169916         1.000000         0.316121   \n",
       "month_firstHalf              -0.087587         0.316121         1.000000   \n",
       "month_secondHalf              0.087587        -0.316121        -1.000000   \n",
       "age_range                     0.114360         0.004385        -0.020174   \n",
       "\n",
       "                     month_secondHalf  age_range  \n",
       "default                     -0.006894  -0.014127  \n",
       "balance                      0.092019   0.078196  \n",
       "housing                     -0.088951  -0.167326  \n",
       "loan                        -0.003112   0.001987  \n",
       "day                          0.013077  -0.006290  \n",
       "duration                    -0.008414  -0.038451  \n",
       "campaign                    -0.122324   0.017497  \n",
       "y                            0.037404  -0.021331  \n",
       "job_admin                    0.003117  -0.047703  \n",
       "job_blue-collar             -0.088757  -0.026442  \n",
       "job_entrepreneur             0.036101   0.028463  \n",
       "job_housemaid               -0.022018   0.082108  \n",
       "job_management               0.051218  -0.001031  \n",
       "job_retired                 -0.005391   0.303021  \n",
       "job_self-employed            0.039587   0.002496  \n",
       "job_services                -0.022176  -0.057119  \n",
       "job_student                  0.020806  -0.154971  \n",
       "job_technician              -0.010108  -0.049481  \n",
       "job_unemployed               0.092719   0.007823  \n",
       "job_unknown                 -0.007236   0.041471  \n",
       "marital_divorced             0.008846   0.157814  \n",
       "marital_married             -0.032196   0.258370  \n",
       "marital_single               0.028872  -0.397604  \n",
       "education_primary           -0.051519   0.166984  \n",
       "education_secondary         -0.025335  -0.093969  \n",
       "education_tertiary           0.073899  -0.060802  \n",
       "education_unknown           -0.009399   0.070475  \n",
       "contact_cellular             0.261783  -0.059381  \n",
       "contact_telephone            0.087587   0.114360  \n",
       "contact_unknown             -0.316121   0.004385  \n",
       "month_firstHalf             -1.000000  -0.020174  \n",
       "month_secondHalf             1.000000   0.020174  \n",
       "age_range                    0.020174   1.000000  \n",
       "\n",
       "[33 rows x 33 columns]"
      ]
     },
     "execution_count": 76,
     "metadata": {},
     "output_type": "execute_result"
    }
   ],
   "source": [
    "correlation = df.corr()\n",
    "correlation"
   ]
  },
  {
   "cell_type": "code",
   "execution_count": 77,
   "id": "6fa792d7",
   "metadata": {},
   "outputs": [
    {
     "name": "stderr",
     "output_type": "stream",
     "text": [
      "C:\\Users\\alima\\AppData\\Local\\Temp\\ipykernel_17180\\916200598.py:2: DeprecationWarning: `np.bool` is a deprecated alias for the builtin `bool`. To silence this warning, use `bool` by itself. Doing this will not modify any behavior and is safe. If you specifically wanted the numpy scalar type, use `np.bool_` here.\n",
      "Deprecated in NumPy 1.20; for more details and guidance: https://numpy.org/devdocs/release/1.20.0-notes.html#deprecations\n",
      "  mask = np.zeros_like(correlation, dtype=np.bool)\n"
     ]
    },
    {
     "data": {
      "text/plain": [
       "<AxesSubplot:>"
      ]
     },
     "execution_count": 77,
     "metadata": {},
     "output_type": "execute_result"
    },
    {
     "data": {
      "image/png": "[encoded data removed]",
      "text/plain": [
       "<Figure size 1296x864 with 2 Axes>"
      ]
     },
     "metadata": {
      "needs_background": "light"
     },
     "output_type": "display_data"
    }
   ],
   "source": [
    "plt.figure(figsize = (18,12))\n",
    "mask = np.zeros_like(correlation, dtype=np.bool)\n",
    "mask[np.triu_indices_from(mask)] = True\n",
    "sns.set(font_scale=1.1) \n",
    "sns.set_style(\"white\")\n",
    "sns.heatmap(correlation, mask=mask, annot=True, cmap='YlGnBu', annot_kws={\"size\": 8})"
   ]
  },
  {
   "cell_type": "code",
   "execution_count": 78,
   "id": "23f103b4",
   "metadata": {},
   "outputs": [
    {
     "data": {
      "text/plain": [
       "<AxesSubplot:xlabel='y', ylabel='count'>"
      ]
     },
     "execution_count": 78,
     "metadata": {},
     "output_type": "execute_result"
    },
    {
     "data": {
      "image/png": "[encoded data removed]",
      "text/plain": [
       "<Figure size 480x360 with 1 Axes>"
      ]
     },
     "metadata": {},
     "output_type": "display_data"
    }
   ],
   "source": [
    "plt.figure(figsize=(8,6), dpi=60)\n",
    "sns.countplot(data=df, x='y')"
   ]
  },
  {
   "cell_type": "code",
   "execution_count": 79,
   "id": "b70610b9",
   "metadata": {},
   "outputs": [],
   "source": [
    "from sklearn.tree import DecisionTreeClassifier\n",
    "from sklearn.model_selection import StratifiedKFold, train_test_split, cross_val_score\n",
    "from sklearn.neighbors import KNeighborsClassifier\n",
    "from sklearn.preprocessing import StandardScaler\n",
    "from sklearn.metrics import accuracy_score,confusion_matrix,classification_report,plot_confusion_matrix\n",
    "from sklearn.metrics import f1_score\n",
    "from sklearn.metrics import classification_report"
   ]
  },
  {
   "cell_type": "markdown",
   "id": "619ad8e3",
   "metadata": {},
   "source": [
    "### Decision Tree"
   ]
  },
  {
   "cell_type": "code",
   "execution_count": 80,
   "id": "fbde8f61",
   "metadata": {},
   "outputs": [],
   "source": [
    "X = df.drop('y', axis=1)\n",
    "y = df['y']"
   ]
  },
  {
   "cell_type": "code",
   "execution_count": 81,
   "id": "c03d3966",
   "metadata": {},
   "outputs": [],
   "source": [
    "X_train, X_test, y_train, y_test = train_test_split(X, y, test_size=0.3, stratify=y, random_state=101)\n",
    "\n"
   ]
  },
  {
   "cell_type": "code",
   "execution_count": 82,
   "id": "a3bd6909",
   "metadata": {},
   "outputs": [],
   "source": [
    "scaler = StandardScaler()"
   ]
  },
  {
   "cell_type": "code",
   "execution_count": 83,
   "id": "e1557a2c",
   "metadata": {},
   "outputs": [],
   "source": [
    "scaled_X_train = scaler.fit_transform(X_train)\n",
    "scaled_X_test = scaler.transform(X_test)"
   ]
  },
  {
   "cell_type": "code",
   "execution_count": 84,
   "id": "4b50f2e0",
   "metadata": {},
   "outputs": [
    {
     "data": {
      "text/plain": [
       "DecisionTreeClassifier(max_depth=5, random_state=101)"
      ]
     },
     "execution_count": 84,
     "metadata": {},
     "output_type": "execute_result"
    }
   ],
   "source": [
    "tree = DecisionTreeClassifier(max_depth=5, random_state=101)\n",
    "tree.fit(scaled_X_train, y_train)"
   ]
  },
  {
   "cell_type": "code",
   "execution_count": 85,
   "id": "4b069d62",
   "metadata": {},
   "outputs": [
    {
     "data": {
      "text/plain": [
       "0.93275"
      ]
     },
     "execution_count": 85,
     "metadata": {},
     "output_type": "execute_result"
    }
   ],
   "source": [
    "tree_pred = tree.predict(scaled_X_test)\n",
    "accuracy_score(y_test, tree_pred)"
   ]
  },
  {
   "cell_type": "code",
   "execution_count": 86,
   "id": "928fe873",
   "metadata": {},
   "outputs": [
    {
     "data": {
      "text/plain": [
       "0.42562277580071173"
      ]
     },
     "execution_count": 86,
     "metadata": {},
     "output_type": "execute_result"
    }
   ],
   "source": [
    "f1_score(y_test, tree_pred)"
   ]
  },
  {
   "cell_type": "code",
   "execution_count": 87,
   "id": "a6b8f18d",
   "metadata": {},
   "outputs": [
    {
     "data": {
      "text/plain": [
       "array([3.17299637e-04, 1.20987190e-02, 0.00000000e+00, 0.00000000e+00,\n",
       "       2.41932970e-02, 8.56889770e-01, 2.08646675e-03, 0.00000000e+00,\n",
       "       0.00000000e+00, 0.00000000e+00, 0.00000000e+00, 0.00000000e+00,\n",
       "       0.00000000e+00, 0.00000000e+00, 0.00000000e+00, 0.00000000e+00,\n",
       "       0.00000000e+00, 0.00000000e+00, 1.47732599e-03, 3.29234061e-03,\n",
       "       3.61755179e-03, 0.00000000e+00, 0.00000000e+00, 0.00000000e+00,\n",
       "       0.00000000e+00, 0.00000000e+00, 2.58159371e-02, 0.00000000e+00,\n",
       "       2.59122664e-02, 0.00000000e+00, 1.37897682e-02, 3.05092573e-02])"
      ]
     },
     "execution_count": 87,
     "metadata": {},
     "output_type": "execute_result"
    }
   ],
   "source": [
    "importances = tree.feature_importances_\n",
    "importances"
   ]
  },
  {
   "cell_type": "code",
   "execution_count": 88,
   "id": "45ee9c89",
   "metadata": {},
   "outputs": [
    {
     "name": "stdout",
     "output_type": "stream",
     "text": [
      "duration 0.8568897702392919\n"
     ]
    }
   ],
   "source": [
    "best_feature_index = np.argmax(importances)\n",
    "best_feature = df.columns[best_feature_index]\n",
    "best_score = importances[best_feature_index]\n",
    "print(best_feature, best_score)"
   ]
  },
  {
   "cell_type": "markdown",
   "id": "58f0d7f3",
   "metadata": {},
   "source": [
    "## Random Forest"
   ]
  },
  {
   "cell_type": "markdown",
   "id": "d70aad23",
   "metadata": {},
   "source": [
    "### GridSearchCV for Random Forest Model"
   ]
  },
  {
   "cell_type": "code",
   "execution_count": 89,
   "id": "a11b5ac0",
   "metadata": {},
   "outputs": [],
   "source": [
    "from sklearn.ensemble import RandomForestClassifier\n",
    "from sklearn.model_selection import GridSearchCV"
   ]
  },
  {
   "cell_type": "code",
   "execution_count": 90,
   "id": "6faa0c77",
   "metadata": {},
   "outputs": [],
   "source": [
    "n_stimators = [10, 20, 30 ,40]\n",
    "max_depth = [2, 3, 5, 10]\n",
    "param_grid = dict(n_estimators = n_stimators, max_depth = max_depth)"
   ]
  },
  {
   "cell_type": "code",
   "execution_count": 91,
   "id": "542d40dc",
   "metadata": {},
   "outputs": [],
   "source": [
    "rf = RandomForestClassifier()\n",
    "\n",
    "grid_search = GridSearchCV(estimator = rf,\n",
    "                   param_grid = param_grid,\n",
    "                   cv = 3,\n",
    "                   verbose = 2,\n",
    "                   n_jobs = -1)\n"
   ]
  },
  {
   "cell_type": "code",
   "execution_count": 92,
   "id": "8727273d",
   "metadata": {},
   "outputs": [
    {
     "name": "stdout",
     "output_type": "stream",
     "text": [
      "Fitting 3 folds for each of 16 candidates, totalling 48 fits\n"
     ]
    }
   ],
   "source": [
    "grid_rf = grid_search.fit(scaled_X_train, y_train)"
   ]
  },
  {
   "cell_type": "code",
   "execution_count": 93,
   "id": "75e99883",
   "metadata": {},
   "outputs": [
    {
     "data": {
      "text/plain": [
       "RandomForestClassifier(max_depth=10, n_estimators=10)"
      ]
     },
     "execution_count": 93,
     "metadata": {},
     "output_type": "execute_result"
    }
   ],
   "source": [
    "grid_rf.best_estimator_"
   ]
  },
  {
   "cell_type": "code",
   "execution_count": 94,
   "id": "d78ee7a8",
   "metadata": {},
   "outputs": [],
   "source": [
    "y_dt_pred = grid_search.predict(scaled_X_test)"
   ]
  },
  {
   "cell_type": "code",
   "execution_count": 95,
   "id": "a5b764c1",
   "metadata": {},
   "outputs": [
    {
     "data": {
      "text/plain": [
       "0.2019047619047619"
      ]
     },
     "execution_count": 95,
     "metadata": {},
     "output_type": "execute_result"
    }
   ],
   "source": [
    "f1_score(y_test, y_dt_pred)"
   ]
  },
  {
   "cell_type": "markdown",
   "id": "7cbf3e7d",
   "metadata": {},
   "source": [
    "### Random Forest Classifier with optimized hyperparameters"
   ]
  },
  {
   "cell_type": "code",
   "execution_count": 96,
   "id": "3445604f",
   "metadata": {},
   "outputs": [],
   "source": [
    "rfc = RandomForestClassifier(n_estimators=20, max_depth=10, random_state=101)"
   ]
  },
  {
   "cell_type": "code",
   "execution_count": 97,
   "id": "2451a84f",
   "metadata": {},
   "outputs": [
    {
     "name": "stdout",
     "output_type": "stream",
     "text": [
      "Model accuracy score with 40 decision-trees : 0.9335\n"
     ]
    }
   ],
   "source": [
    "rfc.fit(scaled_X_train, y_train)\n",
    "y_rfc_predic = rfc.predict(scaled_X_test)\n",
    "print('Model accuracy score with 40 decision-trees : {0:0.4f}'. format(accuracy_score(y_test, y_rfc_predic)))"
   ]
  },
  {
   "cell_type": "code",
   "execution_count": null,
   "id": "60098af1",
   "metadata": {},
   "outputs": [],
   "source": []
  },
  {
   "cell_type": "code",
   "execution_count": 98,
   "id": "05aef77b",
   "metadata": {},
   "outputs": [
    {
     "data": {
      "text/plain": [
       "duration               0.631267\n",
       "day                    0.062289\n",
       "balance                0.057987\n",
       "age_range              0.038707\n",
       "campaign               0.032104\n",
       "contact_unknown        0.017934\n",
       "month_secondHalf       0.013645\n",
       "contact_cellular       0.012951\n",
       "housing                0.012522\n",
       "month_firstHalf        0.011432\n",
       "education_tertiary     0.008663\n",
       "loan                   0.008588\n",
       "marital_married        0.007885\n",
       "marital_single         0.007705\n",
       "marital_divorced       0.006865\n",
       "education_secondary    0.006181\n",
       "job_student            0.005309\n",
       "education_primary      0.005216\n",
       "job_management         0.005114\n",
       "job_admin              0.005106\n",
       "job_blue-collar        0.005048\n",
       "contact_telephone      0.004966\n",
       "job_technician         0.004421\n",
       "job_retired            0.004314\n",
       "job_self-employed      0.003856\n",
       "job_services           0.003614\n",
       "education_unknown      0.003542\n",
       "job_housemaid          0.003115\n",
       "job_unemployed         0.002911\n",
       "default                0.002627\n",
       "job_entrepreneur       0.002506\n",
       "job_unknown            0.001610\n",
       "dtype: float64"
      ]
     },
     "execution_count": 98,
     "metadata": {},
     "output_type": "execute_result"
    }
   ],
   "source": [
    "feature_scores = pd.Series(rfc.feature_importances_, index=X_train.columns).sort_values(ascending=False)\n",
    "\n",
    "feature_scores"
   ]
  },
  {
   "cell_type": "code",
   "execution_count": 99,
   "id": "6827abfc",
   "metadata": {},
   "outputs": [
    {
     "data": {
      "image/png": "[encoded data removed]",
      "text/plain": [
       "<Figure size 720x576 with 1 Axes>"
      ]
     },
     "metadata": {},
     "output_type": "display_data"
    }
   ],
   "source": [
    "f, ax = plt.subplots(figsize=(10, 8))\n",
    "ax = sns.barplot(x=feature_scores, y=feature_scores.index)\n",
    "ax.set_title(\"Visualize feature scores of the features\")\n",
    "ax.set_yticklabels(feature_scores.index)\n",
    "ax.set_xlabel(\"Feature importance score\")\n",
    "ax.set_ylabel(\"Features\")\n",
    "plt.show()"
   ]
  },
  {
   "cell_type": "code",
   "execution_count": 100,
   "id": "730d26be",
   "metadata": {},
   "outputs": [
    {
     "name": "stdout",
     "output_type": "stream",
     "text": [
      "F1 score for Random Forest: 0.30122591943957966\n"
     ]
    }
   ],
   "source": [
    "f1_rfc = f1_score(y_test, y_rfc_predic)\n",
    "print(\"F1 score for Random Forest:\", f1_rfc)"
   ]
  },
  {
   "cell_type": "code",
   "execution_count": 101,
   "id": "b7b2cdc9",
   "metadata": {},
   "outputs": [],
   "source": [
    "selected_columns = ['balance', 'housing', 'loan', 'day', 'duration', 'campaign',\n",
    "                   'y', 'job_blue-collar', 'contact_cellular','contact_unknown', \n",
    "                    'month_firstHalf', 'month_secondHalf', 'age_range'\n",
    "                   ]"
   ]
  },
  {
   "cell_type": "code",
   "execution_count": 102,
   "id": "8917d36b",
   "metadata": {},
   "outputs": [],
   "source": [
    "X2 = df[selected_columns]"
   ]
  },
  {
   "cell_type": "code",
   "execution_count": 103,
   "id": "5a5a9e8b",
   "metadata": {},
   "outputs": [],
   "source": [
    "X2_train, X2_test, y_train, y_test = train_test_split(X2, y, test_size=0.3, stratify=y, random_state=101)"
   ]
  },
  {
   "cell_type": "code",
   "execution_count": 104,
   "id": "bfe6b70d",
   "metadata": {},
   "outputs": [],
   "source": [
    "scaled_X2_train = scaler.fit_transform(X2_train)\n",
    "scaled_X2_test = scaler.transform(X2_test)"
   ]
  },
  {
   "cell_type": "code",
   "execution_count": 105,
   "id": "386fd4c7",
   "metadata": {},
   "outputs": [
    {
     "data": {
      "text/plain": [
       "(28000, 13)"
      ]
     },
     "execution_count": 105,
     "metadata": {},
     "output_type": "execute_result"
    }
   ],
   "source": [
    "X2_train.shape"
   ]
  },
  {
   "cell_type": "markdown",
   "id": "5398bb30",
   "metadata": {},
   "source": [
    "## LogisticRegression"
   ]
  },
  {
   "cell_type": "code",
   "execution_count": 106,
   "id": "de41eae4",
   "metadata": {},
   "outputs": [],
   "source": [
    "from sklearn.linear_model import LogisticRegression\n"
   ]
  },
  {
   "cell_type": "code",
   "execution_count": 107,
   "id": "5af4b057",
   "metadata": {},
   "outputs": [],
   "source": [
    "log_model = LogisticRegression()\n",
    "n_splits = 5 \n",
    "stratified_kfold = StratifiedKFold(n_splits=n_splits, shuffle=True, random_state=101)\n"
   ]
  },
  {
   "cell_type": "code",
   "execution_count": 108,
   "id": "35d31308",
   "metadata": {},
   "outputs": [],
   "source": [
    "cv = StratifiedKFold(n_splits=5, shuffle=True, random_state=101)\n",
    "penalty = ['l1', 'l2']\n",
    "C = np.logspace(-4, 4, 10)\n",
    "grid_model_lgr = GridSearchCV(log_model,param_grid={'C':C, 'penalty':penalty}, cv = stratified_kfold, scoring='f1')"
   ]
  },
  {
   "cell_type": "code",
   "execution_count": 109,
   "id": "ab64b8f2",
   "metadata": {},
   "outputs": [
    {
     "name": "stderr",
     "output_type": "stream",
     "text": [
      "C:\\Users\\alima\\anaconda3\\lib\\site-packages\\sklearn\\model_selection\\_validation.py:372: FitFailedWarning: \n",
      "50 fits failed out of a total of 100.\n",
      "The score on these train-test partitions for these parameters will be set to nan.\n",
      "If these failures are not expected, you can try to debug them by setting error_score='raise'.\n",
      "\n",
      "Below are more details about the failures:\n",
      "--------------------------------------------------------------------------------\n",
      "50 fits failed with the following error:\n",
      "Traceback (most recent call last):\n",
      "  File \"C:\\Users\\alima\\anaconda3\\lib\\site-packages\\sklearn\\model_selection\\_validation.py\", line 680, in _fit_and_score\n",
      "    estimator.fit(X_train, y_train, **fit_params)\n",
      "  File \"C:\\Users\\alima\\anaconda3\\lib\\site-packages\\sklearn\\linear_model\\_logistic.py\", line 1461, in fit\n",
      "    solver = _check_solver(self.solver, self.penalty, self.dual)\n",
      "  File \"C:\\Users\\alima\\anaconda3\\lib\\site-packages\\sklearn\\linear_model\\_logistic.py\", line 447, in _check_solver\n",
      "    raise ValueError(\n",
      "ValueError: Solver lbfgs supports only 'l2' or 'none' penalties, got l1 penalty.\n",
      "\n",
      "  warnings.warn(some_fits_failed_message, FitFailedWarning)\n",
      "C:\\Users\\alima\\anaconda3\\lib\\site-packages\\sklearn\\model_selection\\_search.py:969: UserWarning: One or more of the test scores are non-finite: [       nan 0.0019656         nan 0.15543395        nan 0.31138595\n",
      "        nan 0.34286212        nan 0.34682442        nan 0.34669604\n",
      "        nan 0.34669604        nan 0.34669604        nan 0.34669604\n",
      "        nan 0.34669604]\n",
      "  warnings.warn(\n"
     ]
    },
    {
     "data": {
      "text/plain": [
       "GridSearchCV(cv=StratifiedKFold(n_splits=5, random_state=101, shuffle=True),\n",
       "             estimator=LogisticRegression(),\n",
       "             param_grid={'C': array([1.00000000e-04, 7.74263683e-04, 5.99484250e-03, 4.64158883e-02,\n",
       "       3.59381366e-01, 2.78255940e+00, 2.15443469e+01, 1.66810054e+02,\n",
       "       1.29154967e+03, 1.00000000e+04]),\n",
       "                         'penalty': ['l1', 'l2']},\n",
       "             scoring='f1')"
      ]
     },
     "execution_count": 109,
     "metadata": {},
     "output_type": "execute_result"
    }
   ],
   "source": [
    "grid_model_lgr.fit(scaled_X_train,y_train)"
   ]
  },
  {
   "cell_type": "code",
   "execution_count": 111,
   "id": "c3ab3344",
   "metadata": {},
   "outputs": [
    {
     "data": {
      "text/plain": [
       "{'C': 0.3593813663804626, 'penalty': 'l2'}"
      ]
     },
     "execution_count": 111,
     "metadata": {},
     "output_type": "execute_result"
    }
   ],
   "source": [
    "grid_model_lgr.best_params_"
   ]
  },
  {
   "cell_type": "code",
   "execution_count": 112,
   "id": "c5799b84",
   "metadata": {},
   "outputs": [],
   "source": [
    "# best_C = grid_model.best_params_['C']\n",
    "# best_penalty = grid_model.best_params_['penalty']\n",
    "\n",
    "# optimized_log_model = LogisticRegression(C=best_C, penalty=best_penalty)"
   ]
  },
  {
   "cell_type": "code",
   "execution_count": 113,
   "id": "a262946b",
   "metadata": {},
   "outputs": [],
   "source": [
    "# optimized_log_model.fit(scaled_X_train, y_train)"
   ]
  },
  {
   "cell_type": "code",
   "execution_count": 114,
   "id": "b0e84d1f",
   "metadata": {},
   "outputs": [],
   "source": [
    "y_logreg_pred = grid_model_lgr.predict(scaled_X_test)"
   ]
  },
  {
   "cell_type": "code",
   "execution_count": 115,
   "id": "c17cf026",
   "metadata": {},
   "outputs": [
    {
     "data": {
      "text/plain": [
       "0.34094616639477976"
      ]
     },
     "execution_count": 115,
     "metadata": {},
     "output_type": "execute_result"
    }
   ],
   "source": [
    "f1_score(y_test, y_logreg_pred)"
   ]
  },
  {
   "cell_type": "code",
   "execution_count": 116,
   "id": "dec91a9a",
   "metadata": {},
   "outputs": [
    {
     "data": {
      "text/plain": [
       "array([[10983,   148],\n",
       "       [  660,   209]], dtype=int64)"
      ]
     },
     "execution_count": 116,
     "metadata": {},
     "output_type": "execute_result"
    }
   ],
   "source": [
    "confusion_matrix(y_test, y_logreg_pred)"
   ]
  },
  {
   "cell_type": "code",
   "execution_count": 117,
   "id": "04e4ff77",
   "metadata": {},
   "outputs": [
    {
     "name": "stderr",
     "output_type": "stream",
     "text": [
      "C:\\Users\\alima\\anaconda3\\lib\\site-packages\\sklearn\\utils\\deprecation.py:87: FutureWarning: Function plot_confusion_matrix is deprecated; Function `plot_confusion_matrix` is deprecated in 1.0 and will be removed in 1.2. Use one of the class methods: ConfusionMatrixDisplay.from_predictions or ConfusionMatrixDisplay.from_estimator.\n",
      "  warnings.warn(msg, category=FutureWarning)\n"
     ]
    },
    {
     "data": {
      "text/plain": [
       "<sklearn.metrics._plot.confusion_matrix.ConfusionMatrixDisplay at 0x1ea261e8ca0>"
      ]
     },
     "execution_count": 117,
     "metadata": {},
     "output_type": "execute_result"
    },
    {
     "data": {
      "image/png": "[encoded data removed]",
      "text/plain": [
       "<Figure size 432x288 with 2 Axes>"
      ]
     },
     "metadata": {},
     "output_type": "display_data"
    }
   ],
   "source": [
    "plot_confusion_matrix(grid_model_lgr, scaled_X_test, y_test)"
   ]
  },
  {
   "cell_type": "code",
   "execution_count": 118,
   "id": "4380c783",
   "metadata": {},
   "outputs": [],
   "source": [
    "from sklearn.metrics import precision_recall_curve,plot_precision_recall_curve,plot_roc_curve"
   ]
  },
  {
   "cell_type": "code",
   "execution_count": 119,
   "id": "6cacb6d9",
   "metadata": {},
   "outputs": [
    {
     "name": "stderr",
     "output_type": "stream",
     "text": [
      "C:\\Users\\alima\\anaconda3\\lib\\site-packages\\sklearn\\utils\\deprecation.py:87: FutureWarning: Function plot_precision_recall_curve is deprecated; Function `plot_precision_recall_curve` is deprecated in 1.0 and will be removed in 1.2. Use one of the class methods: PrecisionRecallDisplay.from_predictions or PrecisionRecallDisplay.from_estimator.\n",
      "  warnings.warn(msg, category=FutureWarning)\n"
     ]
    },
    {
     "data": {
      "text/plain": [
       "<sklearn.metrics._plot.precision_recall_curve.PrecisionRecallDisplay at 0x1ea2607e970>"
      ]
     },
     "execution_count": 119,
     "metadata": {},
     "output_type": "execute_result"
    },
    {
     "data": {
      "image/png": "[encoded data removed]",
      "text/plain": [
       "<Figure size 432x288 with 1 Axes>"
      ]
     },
     "metadata": {},
     "output_type": "display_data"
    }
   ],
   "source": [
    "plot_precision_recall_curve(grid_model_lgr,scaled_X_test, y_test)"
   ]
  },
  {
   "cell_type": "code",
   "execution_count": 120,
   "id": "16eae193",
   "metadata": {},
   "outputs": [
    {
     "name": "stderr",
     "output_type": "stream",
     "text": [
      "C:\\Users\\alima\\anaconda3\\lib\\site-packages\\sklearn\\utils\\deprecation.py:87: FutureWarning: Function plot_roc_curve is deprecated; Function :func:`plot_roc_curve` is deprecated in 1.0 and will be removed in 1.2. Use one of the class methods: :meth:`sklearn.metric.RocCurveDisplay.from_predictions` or :meth:`sklearn.metric.RocCurveDisplay.from_estimator`.\n",
      "  warnings.warn(msg, category=FutureWarning)\n"
     ]
    },
    {
     "data": {
      "text/plain": [
       "<sklearn.metrics._plot.roc_curve.RocCurveDisplay at 0x1ea264ac7f0>"
      ]
     },
     "execution_count": 120,
     "metadata": {},
     "output_type": "execute_result"
    },
    {
     "data": {
      "image/png": "[encoded data removed]",
      "text/plain": [
       "<Figure size 432x288 with 1 Axes>"
      ]
     },
     "metadata": {},
     "output_type": "display_data"
    }
   ],
   "source": [
    "plot_roc_curve(grid_model_lgr,scaled_X_test,y_test)"
   ]
  },
  {
   "cell_type": "markdown",
   "id": "ccdefea5",
   "metadata": {},
   "source": [
    "## KNN model"
   ]
  },
  {
   "cell_type": "code",
   "execution_count": 121,
   "id": "638ee813",
   "metadata": {},
   "outputs": [],
   "source": [
    "from sklearn.neighbors import KNeighborsClassifier"
   ]
  },
  {
   "cell_type": "code",
   "execution_count": 122,
   "id": "0f73a2dc",
   "metadata": {},
   "outputs": [],
   "source": [
    "# finding the best hyper parameters for knn model using GridsearchCV and StratifiedKfold together!\n",
    "knn = KNeighborsClassifier()\n",
    "knn_param_grid = {'n_neighbors': [3, 5, 7, 10, 20],'metric': ['euclidean', 'manhattan']}"
   ]
  },
  {
   "cell_type": "code",
   "execution_count": 123,
   "id": "8ed14bda",
   "metadata": {},
   "outputs": [],
   "source": [
    "n_splits = 5\n",
    "knn_skfold = StratifiedKFold(n_splits=n_splits, shuffle=True, random_state=101)"
   ]
  },
  {
   "cell_type": "code",
   "execution_count": 124,
   "id": "23e2bf5a",
   "metadata": {},
   "outputs": [],
   "source": [
    "knn_gridsearch_model = GridSearchCV(knn, knn_param_grid, cv=knn_skfold, scoring='f1')"
   ]
  },
  {
   "cell_type": "code",
   "execution_count": 125,
   "id": "6ce28f19",
   "metadata": {},
   "outputs": [
    {
     "data": {
      "text/plain": [
       "{'metric': 'euclidean', 'n_neighbors': 3}"
      ]
     },
     "execution_count": 125,
     "metadata": {},
     "output_type": "execute_result"
    }
   ],
   "source": [
    "knn_gridsearch_model.fit(scaled_X_train, y_train)\n",
    "knn_gridsearch_model.best_params_\n"
   ]
  },
  {
   "cell_type": "markdown",
   "id": "2ede3f25",
   "metadata": {},
   "source": [
    "### Applying the optimized hyperparameters for fitting the KNN model to the dataset!"
   ]
  },
  {
   "cell_type": "code",
   "execution_count": 126,
   "id": "521bbca0",
   "metadata": {},
   "outputs": [
    {
     "data": {
      "text/plain": [
       "0.2896979085979861"
      ]
     },
     "execution_count": 126,
     "metadata": {},
     "output_type": "execute_result"
    }
   ],
   "source": [
    "# knn_model = KNeighborsClassifier(n_neighbors =3)\n",
    "# knn_model.fit(scaled_X_train, y_train)\n",
    "y_knn_pred = knn_gridsearch_model.predict(scaled_X_test)\n",
    "f1_score(y_test, y_knn_pred)"
   ]
  },
  {
   "cell_type": "markdown",
   "id": "b74b3fdd",
   "metadata": {},
   "source": [
    "### Finding feature importance using KNN model and StratifiedKfold method"
   ]
  },
  {
   "cell_type": "code",
   "execution_count": 127,
   "id": "61d9c770",
   "metadata": {},
   "outputs": [],
   "source": [
    "feature_names = X.columns.to_list()"
   ]
  },
  {
   "cell_type": "code",
   "execution_count": 128,
   "id": "d93b8922",
   "metadata": {},
   "outputs": [],
   "source": [
    "scaler = StandardScaler()\n",
    "Xs = scaler.fit_transform(X)"
   ]
  },
  {
   "cell_type": "code",
   "execution_count": 129,
   "id": "0071c56b",
   "metadata": {
    "scrolled": true
   },
   "outputs": [
    {
     "data": {
      "text/plain": [
       "array([[-0.14367496,  0.29917431,  0.81517892, ...,  0.47726803,\n",
       "        -0.47726803,  1.52859703],\n",
       "       [-0.14367496, -0.42885395,  0.81517892, ...,  0.47726803,\n",
       "        -0.47726803,  0.50909056],\n",
       "       [-0.14367496, -0.43815233,  0.81517892, ...,  0.47726803,\n",
       "        -0.47726803, -0.51041592],\n",
       "       ...,\n",
       "       [-0.14367496, -0.36996425, -1.22672456, ...,  0.47726803,\n",
       "        -0.47726803,  1.52859703],\n",
       "       [-0.14367496, -0.0782708 , -1.22672456, ...,  0.47726803,\n",
       "        -0.47726803, -0.51041592],\n",
       "       [-0.14367496,  0.05776097,  0.81517892, ...,  0.47726803,\n",
       "        -0.47726803, -0.51041592]])"
      ]
     },
     "execution_count": 129,
     "metadata": {},
     "output_type": "execute_result"
    }
   ],
   "source": [
    "Xs"
   ]
  },
  {
   "cell_type": "code",
   "execution_count": 130,
   "id": "75f3de1b",
   "metadata": {},
   "outputs": [],
   "source": [
    "Xs = pd.DataFrame(Xs, columns=feature_names)"
   ]
  },
  {
   "cell_type": "code",
   "execution_count": null,
   "id": "e776ec53",
   "metadata": {},
   "outputs": [],
   "source": []
  },
  {
   "cell_type": "markdown",
   "id": "2c686c0d",
   "metadata": {},
   "source": [
    "## Over-Sampling, using the SMOTE technique"
   ]
  },
  {
   "cell_type": "code",
   "execution_count": 215,
   "id": "3c8762ae",
   "metadata": {},
   "outputs": [],
   "source": [
    "X_train, X_test, y_train, y_test = train_test_split(X, y, test_size=0.3, stratify=y, random_state=101)"
   ]
  },
  {
   "cell_type": "code",
   "execution_count": null,
   "id": "caa14c75",
   "metadata": {},
   "outputs": [],
   "source": []
  },
  {
   "cell_type": "code",
   "execution_count": 216,
   "id": "8ffa7d52",
   "metadata": {},
   "outputs": [],
   "source": [
    "import imblearn\n",
    "from imblearn.over_sampling import SMOTE\n",
    "from imblearn.under_sampling import TomekLinks\n",
    "from imblearn.under_sampling import RandomUnderSampler\n"
   ]
  },
  {
   "cell_type": "code",
   "execution_count": 316,
   "id": "9aeebc4b",
   "metadata": {},
   "outputs": [],
   "source": [
    "# sampling_strategy_smote = {\n",
    "#     1: 12000,\n",
    "# }\n",
    "smote = SMOTE(sampling_strategy= 0.4)"
   ]
  },
  {
   "cell_type": "code",
   "execution_count": 317,
   "id": "09442e98",
   "metadata": {},
   "outputs": [],
   "source": [
    "X_smt, y_smt = smote.fit_resample(X_train, y_train)"
   ]
  },
  {
   "cell_type": "code",
   "execution_count": 318,
   "id": "9b236d42",
   "metadata": {},
   "outputs": [],
   "source": [
    "# desired_class_0_samples = int(1.0 * len(y_smote[y_smote == 0]))\n",
    "\n",
    "# # RandomUnderSampler to achieve the desired ratio for class 0\n",
    "# random_under = RandomUnderSampler(sampling_strategy={0: desired_class_0_samples})\n",
    "# X_smt, y_smt = random_under.fit_resample(X_smote, y_smote)"
   ]
  },
  {
   "cell_type": "code",
   "execution_count": 354,
   "id": "9488567e",
   "metadata": {},
   "outputs": [
    {
     "data": {
      "text/plain": [
       "(36362, 32)"
      ]
     },
     "execution_count": 354,
     "metadata": {},
     "output_type": "execute_result"
    }
   ],
   "source": [
    "X_smt.shape"
   ]
  },
  {
   "cell_type": "code",
   "execution_count": 319,
   "id": "4bcd216c",
   "metadata": {},
   "outputs": [],
   "source": [
    "# resampled_df = pd.DataFrame(X_smt, columns=X.columns)\n",
    "# resampled_df['y'] = y_smt\n",
    "\n",
    "resampled_df = pd.concat([X_smt, y_smt], axis =1)"
   ]
  },
  {
   "cell_type": "code",
   "execution_count": 320,
   "id": "0378774b",
   "metadata": {},
   "outputs": [
    {
     "data": {
      "text/plain": [
       "<AxesSubplot:xlabel='y', ylabel='count'>"
      ]
     },
     "execution_count": 320,
     "metadata": {},
     "output_type": "execute_result"
    },
    {
     "data": {
      "image/png": "[encoded data removed]",
      "text/plain": [
       "<Figure size 480x360 with 1 Axes>"
      ]
     },
     "metadata": {},
     "output_type": "display_data"
    }
   ],
   "source": [
    "plt.figure(figsize=(8,6), dpi=60)\n",
    "sns.countplot(data=resampled_df, x='y')"
   ]
  },
  {
   "cell_type": "markdown",
   "id": "bf5bf072",
   "metadata": {},
   "source": [
    "## Random Forest with resampled data"
   ]
  },
  {
   "cell_type": "code",
   "execution_count": 321,
   "id": "c934e681",
   "metadata": {},
   "outputs": [],
   "source": [
    "# Xsmt_train, Xsmt_test, ysmt_train, ysmt_test = train_test_split(X_smt, y_smt, test_size=0.3, stratify=y_smt, random_state=101)"
   ]
  },
  {
   "cell_type": "code",
   "execution_count": 322,
   "id": "60a92e31",
   "metadata": {},
   "outputs": [],
   "source": [
    "# Xsmt_train.shape"
   ]
  },
  {
   "cell_type": "code",
   "execution_count": 323,
   "id": "b9e17db4",
   "metadata": {},
   "outputs": [],
   "source": [
    "scaler = StandardScaler()\n",
    "scaled_Xsmt = scaler.fit_transform(X_smt)"
   ]
  },
  {
   "cell_type": "code",
   "execution_count": null,
   "id": "0c7aa2ed",
   "metadata": {},
   "outputs": [],
   "source": []
  },
  {
   "cell_type": "code",
   "execution_count": 324,
   "id": "01462cf5",
   "metadata": {},
   "outputs": [],
   "source": [
    "n_stimators = [10, 20, 30 ,40]\n",
    "max_depth = [2, 3, 5, 10]\n",
    "param_grid = dict(n_estimators = n_stimators, max_depth = max_depth)"
   ]
  },
  {
   "cell_type": "code",
   "execution_count": 325,
   "id": "dc359e73",
   "metadata": {},
   "outputs": [],
   "source": [
    "rf = RandomForestClassifier()\n",
    "\n",
    "grid_search = GridSearchCV(estimator = rf,\n",
    "                   param_grid = param_grid,\n",
    "                   cv = 3,\n",
    "                   verbose = 2,\n",
    "                   n_jobs = -1)\n"
   ]
  },
  {
   "cell_type": "code",
   "execution_count": 326,
   "id": "f6e5a0fd",
   "metadata": {},
   "outputs": [
    {
     "name": "stdout",
     "output_type": "stream",
     "text": [
      "Fitting 3 folds for each of 16 candidates, totalling 48 fits\n"
     ]
    }
   ],
   "source": [
    "grid_rfc = grid_search.fit(scaled_Xsmt, y_smt)"
   ]
  },
  {
   "cell_type": "code",
   "execution_count": 327,
   "id": "bf882ffa",
   "metadata": {},
   "outputs": [],
   "source": [
    "best_rfc_classifier = grid_rfc.best_estimator_"
   ]
  },
  {
   "cell_type": "code",
   "execution_count": null,
   "id": "a0ba323e",
   "metadata": {},
   "outputs": [],
   "source": []
  },
  {
   "cell_type": "code",
   "execution_count": null,
   "id": "d364be95",
   "metadata": {},
   "outputs": [],
   "source": []
  },
  {
   "cell_type": "code",
   "execution_count": 328,
   "id": "cc831eae",
   "metadata": {},
   "outputs": [
    {
     "name": "stdout",
     "output_type": "stream",
     "text": [
      "0.43609806990088684\n"
     ]
    }
   ],
   "source": [
    "y_rfc_predic = best_rfc_classifier.predict(scaled_X_test)\n",
    "print(f1_score(y_rfc_predic, y_test))\n",
    "# print('Model accuracy score with 30 decision-trees : {0:0.4f}'. format(accuracy_scor(y_test, y_rfc_predic)))"
   ]
  },
  {
   "cell_type": "code",
   "execution_count": null,
   "id": "22408fa0",
   "metadata": {},
   "outputs": [],
   "source": []
  },
  {
   "cell_type": "code",
   "execution_count": 329,
   "id": "6914322c",
   "metadata": {},
   "outputs": [
    {
     "data": {
      "text/plain": [
       "duration               0.410949\n",
       "age_range              0.056838\n",
       "contact_unknown        0.053980\n",
       "marital_married        0.047319\n",
       "month_secondHalf       0.045187\n",
       "month_firstHalf        0.044323\n",
       "marital_single         0.041872\n",
       "housing                0.041677\n",
       "education_secondary    0.036843\n",
       "education_primary      0.022388\n",
       "job_blue-collar        0.021655\n",
       "education_tertiary     0.019072\n",
       "day                    0.018981\n",
       "contact_cellular       0.017552\n",
       "marital_divorced       0.017425\n",
       "job_management         0.015816\n",
       "balance                0.015080\n",
       "job_technician         0.014427\n",
       "contact_telephone      0.012366\n",
       "campaign               0.010605\n",
       "job_services           0.008297\n",
       "education_unknown      0.007988\n",
       "job_admin              0.007245\n",
       "loan                   0.002360\n",
       "job_unemployed         0.002035\n",
       "job_entrepreneur       0.001821\n",
       "job_self-employed      0.001776\n",
       "job_housemaid          0.001440\n",
       "job_retired            0.001373\n",
       "default                0.000621\n",
       "job_student            0.000528\n",
       "job_unknown            0.000161\n",
       "dtype: float64"
      ]
     },
     "execution_count": 329,
     "metadata": {},
     "output_type": "execute_result"
    }
   ],
   "source": [
    "resampled_feature_scores = pd.Series(best_rfc_classifier.feature_importances_, index=X_train.columns).sort_values(ascending=False)\n",
    "\n",
    "resampled_feature_scores"
   ]
  },
  {
   "cell_type": "code",
   "execution_count": null,
   "id": "561b9069",
   "metadata": {},
   "outputs": [],
   "source": []
  },
  {
   "cell_type": "code",
   "execution_count": 330,
   "id": "ee5189e3",
   "metadata": {},
   "outputs": [
    {
     "data": {
      "image/png": "[encoded data removed]",
      "text/plain": [
       "<Figure size 720x576 with 1 Axes>"
      ]
     },
     "metadata": {},
     "output_type": "display_data"
    }
   ],
   "source": [
    "f, ax = plt.subplots(figsize=(10, 8))\n",
    "ax = sns.barplot(x=resampled_feature_scores, y=resampled_feature_scores.index)\n",
    "ax.set_title(\"Visualize feature scores of the features\")\n",
    "ax.set_yticklabels(feature_scores.index)\n",
    "ax.set_xlabel(\"Feature importance score\")\n",
    "ax.set_ylabel(\"Features\")\n",
    "plt.show()"
   ]
  },
  {
   "cell_type": "code",
   "execution_count": 331,
   "id": "732adb13",
   "metadata": {},
   "outputs": [
    {
     "name": "stdout",
     "output_type": "stream",
     "text": [
      "['duration', 'age_range', 'contact_unknown', 'marital_married', 'month_secondHalf', 'month_firstHalf', 'marital_single', 'housing', 'education_secondary', 'education_primary', 'job_blue-collar', 'education_tertiary', 'day', 'contact_cellular', 'marital_divorced', 'job_management', 'balance', 'job_technician', 'contact_telephone', 'campaign']\n"
     ]
    }
   ],
   "source": [
    "resampled_important_features = []\n",
    "for idx, scor in enumerate(resampled_feature_scores):\n",
    "    if scor > 0.01:\n",
    "        resampled_important_features.append(resampled_feature_scores.index[idx])\n",
    "print(resampled_important_features)"
   ]
  },
  {
   "cell_type": "markdown",
   "id": "218b1445",
   "metadata": {},
   "source": [
    "## Logistic Regression using Resampled Data"
   ]
  },
  {
   "cell_type": "code",
   "execution_count": 335,
   "id": "b97b9686",
   "metadata": {},
   "outputs": [],
   "source": [
    "X2_selected = X_smt[resampled_important_features]"
   ]
  },
  {
   "cell_type": "code",
   "execution_count": 384,
   "id": "0723a57d",
   "metadata": {},
   "outputs": [],
   "source": [
    "X2_test_important_features = X_test[resampled_important_features]"
   ]
  },
  {
   "cell_type": "code",
   "execution_count": 385,
   "id": "fb313959",
   "metadata": {},
   "outputs": [],
   "source": [
    "scaler = StandardScaler()\n",
    "scaled_X2_selected = scaler.fit_transform(X2_selected)\n",
    "scaled_X2_test_important_features = scaler.transform(X2_test_important_features)"
   ]
  },
  {
   "cell_type": "code",
   "execution_count": 180,
   "id": "134cea9d",
   "metadata": {},
   "outputs": [],
   "source": [
    "# scaled_X2_train = scaler.fit_transform(X2_train)\n",
    "# scaled_X2_test = scaler.transform(X2_test)"
   ]
  },
  {
   "cell_type": "code",
   "execution_count": 386,
   "id": "b40e1c0c",
   "metadata": {},
   "outputs": [],
   "source": [
    "log_model_resampled = LogisticRegression()"
   ]
  },
  {
   "cell_type": "code",
   "execution_count": 387,
   "id": "2d045d67",
   "metadata": {},
   "outputs": [
    {
     "data": {
      "text/plain": [
       "(36362, 20)"
      ]
     },
     "execution_count": 387,
     "metadata": {},
     "output_type": "execute_result"
    }
   ],
   "source": [
    "scaled_X2_selected.shape"
   ]
  },
  {
   "cell_type": "code",
   "execution_count": 388,
   "id": "3acac2b4",
   "metadata": {},
   "outputs": [],
   "source": [
    "cv = StratifiedKFold(n_splits=5, shuffle=True, random_state=101)\n",
    "penalty = ['l1', 'l2']\n",
    "C = np.logspace(-4, 4, 10)\n",
    "grid_model_lgr_resampled = GridSearchCV(log_model_resampled,param_grid={'C':C, 'penalty':penalty}, cv = stratified_kfold, scoring='accuracy')"
   ]
  },
  {
   "cell_type": "code",
   "execution_count": 389,
   "id": "a7fa05e2",
   "metadata": {},
   "outputs": [
    {
     "name": "stderr",
     "output_type": "stream",
     "text": [
      "C:\\Users\\alima\\anaconda3\\lib\\site-packages\\sklearn\\model_selection\\_validation.py:372: FitFailedWarning: \n",
      "50 fits failed out of a total of 100.\n",
      "The score on these train-test partitions for these parameters will be set to nan.\n",
      "If these failures are not expected, you can try to debug them by setting error_score='raise'.\n",
      "\n",
      "Below are more details about the failures:\n",
      "--------------------------------------------------------------------------------\n",
      "50 fits failed with the following error:\n",
      "Traceback (most recent call last):\n",
      "  File \"C:\\Users\\alima\\anaconda3\\lib\\site-packages\\sklearn\\model_selection\\_validation.py\", line 680, in _fit_and_score\n",
      "    estimator.fit(X_train, y_train, **fit_params)\n",
      "  File \"C:\\Users\\alima\\anaconda3\\lib\\site-packages\\sklearn\\linear_model\\_logistic.py\", line 1461, in fit\n",
      "    solver = _check_solver(self.solver, self.penalty, self.dual)\n",
      "  File \"C:\\Users\\alima\\anaconda3\\lib\\site-packages\\sklearn\\linear_model\\_logistic.py\", line 447, in _check_solver\n",
      "    raise ValueError(\n",
      "ValueError: Solver lbfgs supports only 'l2' or 'none' penalties, got l1 penalty.\n",
      "\n",
      "  warnings.warn(some_fits_failed_message, FitFailedWarning)\n",
      "C:\\Users\\alima\\anaconda3\\lib\\site-packages\\sklearn\\model_selection\\_search.py:969: UserWarning: One or more of the test scores are non-finite: [       nan 0.83496491        nan 0.91719366        nan 0.93053179\n",
      "        nan 0.93388692        nan 0.93366692        nan 0.93352941\n",
      "        nan 0.9335019         nan 0.9335019         nan 0.9335019\n",
      "        nan 0.93352941]\n",
      "  warnings.warn(\n"
     ]
    },
    {
     "data": {
      "text/plain": [
       "GridSearchCV(cv=StratifiedKFold(n_splits=5, random_state=101, shuffle=True),\n",
       "             estimator=LogisticRegression(),\n",
       "             param_grid={'C': array([1.00000000e-04, 7.74263683e-04, 5.99484250e-03, 4.64158883e-02,\n",
       "       3.59381366e-01, 2.78255940e+00, 2.15443469e+01, 1.66810054e+02,\n",
       "       1.29154967e+03, 1.00000000e+04]),\n",
       "                         'penalty': ['l1', 'l2']},\n",
       "             scoring='accuracy')"
      ]
     },
     "execution_count": 389,
     "metadata": {},
     "output_type": "execute_result"
    }
   ],
   "source": [
    "grid_model_lgr_resampled.fit(scaled_X2_selected, y_smt)"
   ]
  },
  {
   "cell_type": "code",
   "execution_count": 390,
   "id": "4b9b538c",
   "metadata": {},
   "outputs": [],
   "source": [
    "best_grid_model_lgr = grid_model_lgr_resampled.best_estimator_"
   ]
  },
  {
   "cell_type": "code",
   "execution_count": 391,
   "id": "f416f8ea",
   "metadata": {},
   "outputs": [],
   "source": [
    "y_predicted_lgr = best_grid_model_lgr.predict(scaled_X2_test_important_features)"
   ]
  },
  {
   "cell_type": "code",
   "execution_count": 402,
   "id": "1e709e5b",
   "metadata": {},
   "outputs": [
    {
     "data": {
      "text/plain": [
       "0.39827462257368806"
      ]
     },
     "execution_count": 402,
     "metadata": {},
     "output_type": "execute_result"
    }
   ],
   "source": [
    "f1_score(y_test, y_predicted_lgr)"
   ]
  },
  {
   "cell_type": "code",
   "execution_count": 399,
   "id": "634842ac",
   "metadata": {},
   "outputs": [
    {
     "data": {
      "text/plain": [
       "0.93025"
      ]
     },
     "execution_count": 399,
     "metadata": {},
     "output_type": "execute_result"
    }
   ],
   "source": [
    "accuracy_score(y_test, y_predicted_lgr)"
   ]
  },
  {
   "cell_type": "code",
   "execution_count": 400,
   "id": "0f72fb0a",
   "metadata": {},
   "outputs": [
    {
     "data": {
      "text/plain": [
       "array([[10886,   245],\n",
       "       [  592,   277]], dtype=int64)"
      ]
     },
     "execution_count": 400,
     "metadata": {},
     "output_type": "execute_result"
    }
   ],
   "source": [
    "confusion_matrix(y_test, y_predicted_lgr)"
   ]
  },
  {
   "cell_type": "code",
   "execution_count": 405,
   "id": "dc372f58",
   "metadata": {},
   "outputs": [
    {
     "name": "stderr",
     "output_type": "stream",
     "text": [
      "C:\\Users\\alima\\anaconda3\\lib\\site-packages\\sklearn\\utils\\deprecation.py:87: FutureWarning: Function plot_confusion_matrix is deprecated; Function `plot_confusion_matrix` is deprecated in 1.0 and will be removed in 1.2. Use one of the class methods: ConfusionMatrixDisplay.from_predictions or ConfusionMatrixDisplay.from_estimator.\n",
      "  warnings.warn(msg, category=FutureWarning)\n"
     ]
    },
    {
     "data": {
      "text/plain": [
       "<sklearn.metrics._plot.confusion_matrix.ConfusionMatrixDisplay at 0x1ea352d1250>"
      ]
     },
     "execution_count": 405,
     "metadata": {},
     "output_type": "execute_result"
    },
    {
     "data": {
      "image/png": "[encoded data removed]",
      "text/plain": [
       "<Figure size 432x288 with 2 Axes>"
      ]
     },
     "metadata": {},
     "output_type": "display_data"
    }
   ],
   "source": [
    "plot_confusion_matrix(best_grid_model_lgr, scaled_X2_test_important_features, y_test)"
   ]
  },
  {
   "cell_type": "code",
   "execution_count": 407,
   "id": "2663469a",
   "metadata": {},
   "outputs": [
    {
     "name": "stderr",
     "output_type": "stream",
     "text": [
      "C:\\Users\\alima\\anaconda3\\lib\\site-packages\\sklearn\\utils\\deprecation.py:87: FutureWarning: Function plot_precision_recall_curve is deprecated; Function `plot_precision_recall_curve` is deprecated in 1.0 and will be removed in 1.2. Use one of the class methods: PrecisionRecallDisplay.from_predictions or PrecisionRecallDisplay.from_estimator.\n",
      "  warnings.warn(msg, category=FutureWarning)\n"
     ]
    },
    {
     "data": {
      "text/plain": [
       "<sklearn.metrics._plot.precision_recall_curve.PrecisionRecallDisplay at 0x1ea2b172f10>"
      ]
     },
     "execution_count": 407,
     "metadata": {},
     "output_type": "execute_result"
    },
    {
     "data": {
      "image/png": "[encoded data removed]",
      "text/plain": [
       "<Figure size 432x288 with 1 Axes>"
      ]
     },
     "metadata": {},
     "output_type": "display_data"
    }
   ],
   "source": [
    "plot_precision_recall_curve(best_grid_model_lgr, scaled_X2_test_important_features, y_test)"
   ]
  },
  {
   "cell_type": "code",
   "execution_count": 408,
   "id": "11fc23db",
   "metadata": {},
   "outputs": [
    {
     "name": "stderr",
     "output_type": "stream",
     "text": [
      "C:\\Users\\alima\\anaconda3\\lib\\site-packages\\sklearn\\utils\\deprecation.py:87: FutureWarning: Function plot_roc_curve is deprecated; Function :func:`plot_roc_curve` is deprecated in 1.0 and will be removed in 1.2. Use one of the class methods: :meth:`sklearn.metric.RocCurveDisplay.from_predictions` or :meth:`sklearn.metric.RocCurveDisplay.from_estimator`.\n",
      "  warnings.warn(msg, category=FutureWarning)\n"
     ]
    },
    {
     "data": {
      "text/plain": [
       "<sklearn.metrics._plot.roc_curve.RocCurveDisplay at 0x1ea19057130>"
      ]
     },
     "execution_count": 408,
     "metadata": {},
     "output_type": "execute_result"
    },
    {
     "data": {
      "image/png": "[encoded data removed]",
      "text/plain": [
       "<Figure size 432x288 with 1 Axes>"
      ]
     },
     "metadata": {},
     "output_type": "display_data"
    }
   ],
   "source": [
    "plot_roc_curve(best_grid_model_lgr, scaled_X2_test_important_features, y_test)"
   ]
  },
  {
   "cell_type": "markdown",
   "id": "4f2a31ee",
   "metadata": {},
   "source": [
    "## KNN Classification Model using Resampled Data"
   ]
  },
  {
   "cell_type": "code",
   "execution_count": 409,
   "id": "7a77ac0a",
   "metadata": {},
   "outputs": [],
   "source": [
    "knn = KNeighborsClassifier()\n",
    "knn_param_grid = {'n_neighbors': [3, 5, 7, 10, 20],'metric': ['euclidean', 'manhattan']}\n",
    "n_splits = 5\n",
    "knn_skfold = StratifiedKFold(n_splits=n_splits, shuffle=True, random_state=101)"
   ]
  },
  {
   "cell_type": "code",
   "execution_count": 418,
   "id": "8c7100a2",
   "metadata": {},
   "outputs": [],
   "source": [
    "knn_gridsearch_resampled = GridSearchCV(knn, knn_param_grid, cv=knn_skfold, scoring='accuracy')"
   ]
  },
  {
   "cell_type": "code",
   "execution_count": 421,
   "id": "ab594eab",
   "metadata": {},
   "outputs": [
    {
     "data": {
      "text/plain": [
       "GridSearchCV(cv=StratifiedKFold(n_splits=5, random_state=101, shuffle=True),\n",
       "             estimator=KNeighborsClassifier(),\n",
       "             param_grid={'metric': ['euclidean', 'manhattan'],\n",
       "                         'n_neighbors': [3, 5, 7, 10, 20]},\n",
       "             scoring='accuracy')"
      ]
     },
     "execution_count": 421,
     "metadata": {},
     "output_type": "execute_result"
    }
   ],
   "source": [
    "knn_gridsearch_resampled.fit(scaled_X2_selected, y_smt)"
   ]
  },
  {
   "cell_type": "code",
   "execution_count": 433,
   "id": "68997f90",
   "metadata": {},
   "outputs": [],
   "source": [
    "best_knn_grid_model = knn_gridsearch_resampled.best_estimator_"
   ]
  },
  {
   "cell_type": "code",
   "execution_count": 434,
   "id": "289187d0",
   "metadata": {},
   "outputs": [],
   "source": [
    "ysmt_knn_predicted = best_knn_grid_model.predict(scaled_X2_test_important_features)\n"
   ]
  },
  {
   "cell_type": "code",
   "execution_count": 435,
   "id": "7a27ed72",
   "metadata": {},
   "outputs": [
    {
     "data": {
      "text/plain": [
       "0.9195"
      ]
     },
     "execution_count": 435,
     "metadata": {},
     "output_type": "execute_result"
    }
   ],
   "source": [
    "accuracy_score(y_test, ysmt_knn_predicted)"
   ]
  },
  {
   "cell_type": "markdown",
   "id": "f2957f97",
   "metadata": {},
   "source": [
    "### with F1 scoring!"
   ]
  },
  {
   "cell_type": "code",
   "execution_count": 437,
   "id": "48c0197e",
   "metadata": {},
   "outputs": [],
   "source": [
    "knn_f1_gridsearch_resampled = GridSearchCV(knn, knn_param_grid, cv=knn_skfold, scoring='f1')"
   ]
  },
  {
   "cell_type": "code",
   "execution_count": null,
   "id": "6841d5e0",
   "metadata": {},
   "outputs": [],
   "source": []
  },
  {
   "cell_type": "code",
   "execution_count": 438,
   "id": "fa7fc816",
   "metadata": {},
   "outputs": [
    {
     "data": {
      "text/plain": [
       "GridSearchCV(cv=StratifiedKFold(n_splits=5, random_state=101, shuffle=True),\n",
       "             estimator=KNeighborsClassifier(),\n",
       "             param_grid={'metric': ['euclidean', 'manhattan'],\n",
       "                         'n_neighbors': [3, 5, 7, 10, 20]},\n",
       "             scoring='f1')"
      ]
     },
     "execution_count": 438,
     "metadata": {},
     "output_type": "execute_result"
    }
   ],
   "source": [
    "knn_f1_gridsearch_resampled.fit(scaled_X2_test_important_features, y_test)"
   ]
  },
  {
   "cell_type": "code",
   "execution_count": 439,
   "id": "5407ddd1",
   "metadata": {},
   "outputs": [],
   "source": [
    "bestf1_knn_grid_model = knn_f1_gridsearch_resampled.best_estimator_"
   ]
  },
  {
   "cell_type": "code",
   "execution_count": 440,
   "id": "5df81e35",
   "metadata": {},
   "outputs": [
    {
     "data": {
      "text/plain": [
       "0.5509893455098934"
      ]
     },
     "execution_count": 440,
     "metadata": {},
     "output_type": "execute_result"
    }
   ],
   "source": [
    "ysmt_knn_predicted = bestf1_knn_grid_model.predict(scaled_X2_test_important_features)\n",
    "f1_score(y_test, ysmt_knn_predicted)"
   ]
  },
  {
   "cell_type": "markdown",
   "id": "c6a2676e",
   "metadata": {},
   "source": [
    "## SHAP & LIME Model Explanations"
   ]
  },
  {
   "cell_type": "markdown",
   "id": "0393c3c4",
   "metadata": {},
   "source": [
    "### SHAP Model Explanation for Random Forest Model with Resampled Dataset!"
   ]
  },
  {
   "cell_type": "code",
   "execution_count": 442,
   "id": "1b32ab62",
   "metadata": {},
   "outputs": [
    {
     "name": "stderr",
     "output_type": "stream",
     "text": [
      "Using `tqdm.autonotebook.tqdm` in notebook mode. Use `tqdm.tqdm` instead to force console mode (e.g. in jupyter console)\n"
     ]
    }
   ],
   "source": [
    "import shap\n",
    "import numpy as np"
   ]
  },
  {
   "cell_type": "code",
   "execution_count": 459,
   "id": "5f81450b",
   "metadata": {},
   "outputs": [],
   "source": [
    "explainer = shap.TreeExplainer(grid_rf.best_estimator_)\n"
   ]
  },
  {
   "cell_type": "code",
   "execution_count": 460,
   "id": "d8e730ee",
   "metadata": {},
   "outputs": [],
   "source": [
    "# mapping the feature names that are lost after scaling the X_traina dnX_test! \n",
    "original_feature_names = X_train.columns"
   ]
  },
  {
   "cell_type": "code",
   "execution_count": 461,
   "id": "3f78c7de",
   "metadata": {},
   "outputs": [],
   "source": [
    "scaled_df_train = pd.DataFrame(scaled_X_train, columns=original_feature_names)\n",
    "scaled_df_test = pd.DataFrame(scaled_X_test, columns=original_feature_names)"
   ]
  },
  {
   "cell_type": "code",
   "execution_count": 462,
   "id": "361bba3c",
   "metadata": {},
   "outputs": [
    {
     "data": {
      "text/plain": [
       "(12000, 32)"
      ]
     },
     "execution_count": 462,
     "metadata": {},
     "output_type": "execute_result"
    }
   ],
   "source": [
    "scaled_df_test.shape"
   ]
  },
  {
   "cell_type": "code",
   "execution_count": null,
   "id": "195f00fe",
   "metadata": {},
   "outputs": [],
   "source": []
  },
  {
   "cell_type": "code",
   "execution_count": 463,
   "id": "dbd45663",
   "metadata": {},
   "outputs": [
    {
     "data": {
      "image/png": "[encoded data removed]",
      "text/plain": [
       "<Figure size 576x684 with 1 Axes>"
      ]
     },
     "metadata": {},
     "output_type": "display_data"
    }
   ],
   "source": [
    "shap_values = explainer.shap_values(scaled_df_train)\n",
    "shap_values_test = explainer.shap_values(scaled_df_test)\n",
    "# Plot summary plot for featur importances\n",
    "shap.summary_plot(shap_values, scaled_df_train)"
   ]
  },
  {
   "cell_type": "code",
   "execution_count": 464,
   "id": "aef900b1",
   "metadata": {},
   "outputs": [
    {
     "data": {
      "image/png": "[encoded data removed]",
      "text/plain": [
       "<Figure size 576x684 with 2 Axes>"
      ]
     },
     "metadata": {},
     "output_type": "display_data"
    }
   ],
   "source": [
    "shap.summary_plot(shap_values_test[1], scaled_df_test)\n",
    "\n"
   ]
  },
  {
   "cell_type": "code",
   "execution_count": null,
   "id": "f0cb20da",
   "metadata": {},
   "outputs": [],
   "source": []
  },
  {
   "cell_type": "markdown",
   "id": "2682d123",
   "metadata": {},
   "source": [
    "# Outcomes:"
   ]
  },
  {
   "cell_type": "markdown",
   "id": "4b4ae7eb",
   "metadata": {},
   "source": [
    "### The model predicts if customers subscribe for the service with 93% accuracy!\n",
    "### Duration of the calss is the most importatnt parameter for convincieng customers to subscribe for the service. In other words, it really depends on how much time the operators talk to customers to convience them to use the service!"
   ]
  },
  {
   "cell_type": "code",
   "execution_count": null,
   "id": "dd994a07",
   "metadata": {},
   "outputs": [],
   "source": []
  },
  {
   "cell_type": "code",
   "execution_count": null,
   "id": "467d2335",
   "metadata": {},
   "outputs": [],
   "source": []
  },
  {
   "cell_type": "code",
   "execution_count": null,
   "id": "3690c1fd",
   "metadata": {},
   "outputs": [],
   "source": []
  }
 ],
 "metadata": {
  "kernelspec": {
   "display_name": "Python 3 (ipykernel)",
   "language": "python",
   "name": "python3"
  },
  "language_info": {
   "codemirror_mode": {
    "name": "ipython",
    "version": 3
   },
   "file_extension": ".py",
   "mimetype": "text/x-python",
   "name": "python",
   "nbconvert_exporter": "python",
   "pygments_lexer": "ipython3",
   "version": "3.9.12"
  }
 },
 "nbformat": 4,
 "nbformat_minor": 5
}
